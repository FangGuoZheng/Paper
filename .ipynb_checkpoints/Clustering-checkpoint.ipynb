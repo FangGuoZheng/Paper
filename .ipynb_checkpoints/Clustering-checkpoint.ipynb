{
 "cells": [
  {
   "cell_type": "code",
   "execution_count": 2,
   "metadata": {},
   "outputs": [],
   "source": [
    "import pandas as pd\n",
    "import numpy as np"
   ]
  },
  {
   "cell_type": "code",
   "execution_count": 3,
   "metadata": {},
   "outputs": [],
   "source": [
    "oj_data = pd.read_csv(\"D:/fgz/专利/OJFeatures.csv\", engine=\"python\")"
   ]
  },
  {
   "cell_type": "code",
   "execution_count": 4,
   "metadata": {},
   "outputs": [
    {
     "data": {
      "text/html": [
       "<div>\n",
       "<style scoped>\n",
       "    .dataframe tbody tr th:only-of-type {\n",
       "        vertical-align: middle;\n",
       "    }\n",
       "\n",
       "    .dataframe tbody tr th {\n",
       "        vertical-align: top;\n",
       "    }\n",
       "\n",
       "    .dataframe thead th {\n",
       "        text-align: right;\n",
       "    }\n",
       "</style>\n",
       "<table border=\"1\" class=\"dataframe\">\n",
       "  <thead>\n",
       "    <tr style=\"text-align: right;\">\n",
       "      <th></th>\n",
       "      <th>sid</th>\n",
       "      <th>sim_id</th>\n",
       "      <th>uid</th>\n",
       "      <th>sim_uid</th>\n",
       "      <th>similarity</th>\n",
       "      <th>similarityThreshold</th>\n",
       "      <th>CPMS</th>\n",
       "      <th>CPMSPC</th>\n",
       "      <th>CPTC</th>\n",
       "      <th>ASSR</th>\n",
       "      <th>DL</th>\n",
       "      <th>PR</th>\n",
       "      <th>PCR</th>\n",
       "      <th>RRB</th>\n",
       "      <th>LABEL</th>\n",
       "    </tr>\n",
       "  </thead>\n",
       "  <tbody>\n",
       "    <tr>\n",
       "      <th>0</th>\n",
       "      <td>5409</td>\n",
       "      <td>7322</td>\n",
       "      <td>43</td>\n",
       "      <td>190</td>\n",
       "      <td>0.640000</td>\n",
       "      <td>0.95</td>\n",
       "      <td>0</td>\n",
       "      <td>2</td>\n",
       "      <td>1</td>\n",
       "      <td>0.882609</td>\n",
       "      <td>1</td>\n",
       "      <td>1.0</td>\n",
       "      <td>0.631714</td>\n",
       "      <td>163</td>\n",
       "      <td>1</td>\n",
       "    </tr>\n",
       "    <tr>\n",
       "      <th>1</th>\n",
       "      <td>5549</td>\n",
       "      <td>5534</td>\n",
       "      <td>43</td>\n",
       "      <td>71</td>\n",
       "      <td>0.511628</td>\n",
       "      <td>0.85</td>\n",
       "      <td>0</td>\n",
       "      <td>2</td>\n",
       "      <td>1</td>\n",
       "      <td>0.627778</td>\n",
       "      <td>1</td>\n",
       "      <td>1.0</td>\n",
       "      <td>0.631714</td>\n",
       "      <td>163</td>\n",
       "      <td>1</td>\n",
       "    </tr>\n",
       "    <tr>\n",
       "      <th>2</th>\n",
       "      <td>6134</td>\n",
       "      <td>4991</td>\n",
       "      <td>29</td>\n",
       "      <td>20</td>\n",
       "      <td>0.828571</td>\n",
       "      <td>0.90</td>\n",
       "      <td>0</td>\n",
       "      <td>4</td>\n",
       "      <td>1</td>\n",
       "      <td>0.775883</td>\n",
       "      <td>1</td>\n",
       "      <td>0.0</td>\n",
       "      <td>0.813397</td>\n",
       "      <td>188</td>\n",
       "      <td>0</td>\n",
       "    </tr>\n",
       "    <tr>\n",
       "      <th>3</th>\n",
       "      <td>6638</td>\n",
       "      <td>5825</td>\n",
       "      <td>50</td>\n",
       "      <td>72</td>\n",
       "      <td>0.752941</td>\n",
       "      <td>0.92</td>\n",
       "      <td>0</td>\n",
       "      <td>3</td>\n",
       "      <td>1</td>\n",
       "      <td>0.932974</td>\n",
       "      <td>1</td>\n",
       "      <td>1.0</td>\n",
       "      <td>0.703248</td>\n",
       "      <td>169</td>\n",
       "      <td>1</td>\n",
       "    </tr>\n",
       "    <tr>\n",
       "      <th>4</th>\n",
       "      <td>6915</td>\n",
       "      <td>6597</td>\n",
       "      <td>28</td>\n",
       "      <td>24</td>\n",
       "      <td>0.784314</td>\n",
       "      <td>0.92</td>\n",
       "      <td>0</td>\n",
       "      <td>3</td>\n",
       "      <td>1</td>\n",
       "      <td>0.888374</td>\n",
       "      <td>1</td>\n",
       "      <td>1.0</td>\n",
       "      <td>0.586463</td>\n",
       "      <td>128</td>\n",
       "      <td>1</td>\n",
       "    </tr>\n",
       "  </tbody>\n",
       "</table>\n",
       "</div>"
      ],
      "text/plain": [
       "    sid  sim_id  uid  sim_uid  similarity  similarityThreshold  CPMS  CPMSPC  \\\n",
       "0  5409    7322   43      190    0.640000                 0.95     0       2   \n",
       "1  5549    5534   43       71    0.511628                 0.85     0       2   \n",
       "2  6134    4991   29       20    0.828571                 0.90     0       4   \n",
       "3  6638    5825   50       72    0.752941                 0.92     0       3   \n",
       "4  6915    6597   28       24    0.784314                 0.92     0       3   \n",
       "\n",
       "   CPTC      ASSR  DL   PR       PCR  RRB  LABEL  \n",
       "0     1  0.882609   1  1.0  0.631714  163      1  \n",
       "1     1  0.627778   1  1.0  0.631714  163      1  \n",
       "2     1  0.775883   1  0.0  0.813397  188      0  \n",
       "3     1  0.932974   1  1.0  0.703248  169      1  \n",
       "4     1  0.888374   1  1.0  0.586463  128      1  "
      ]
     },
     "execution_count": 4,
     "metadata": {},
     "output_type": "execute_result"
    }
   ],
   "source": [
    "oj_data.head()"
   ]
  },
  {
   "cell_type": "code",
   "execution_count": 5,
   "metadata": {},
   "outputs": [],
   "source": [
    "columns = ['sid', 'sim_id', 'uid', 'sim_uid', 'CPMS', 'PR']\n",
    "oj_for_kmeans=oj_data.drop(columns, axis=1) # \"inplace=True\" indicate that delete columns in-place"
   ]
  },
  {
   "cell_type": "code",
   "execution_count": 6,
   "metadata": {},
   "outputs": [
    {
     "data": {
      "text/html": [
       "<div>\n",
       "<style scoped>\n",
       "    .dataframe tbody tr th:only-of-type {\n",
       "        vertical-align: middle;\n",
       "    }\n",
       "\n",
       "    .dataframe tbody tr th {\n",
       "        vertical-align: top;\n",
       "    }\n",
       "\n",
       "    .dataframe thead th {\n",
       "        text-align: right;\n",
       "    }\n",
       "</style>\n",
       "<table border=\"1\" class=\"dataframe\">\n",
       "  <thead>\n",
       "    <tr style=\"text-align: right;\">\n",
       "      <th></th>\n",
       "      <th>similarity</th>\n",
       "      <th>similarityThreshold</th>\n",
       "      <th>CPMSPC</th>\n",
       "      <th>CPTC</th>\n",
       "      <th>ASSR</th>\n",
       "      <th>DL</th>\n",
       "      <th>PCR</th>\n",
       "      <th>RRB</th>\n",
       "      <th>LABEL</th>\n",
       "    </tr>\n",
       "  </thead>\n",
       "  <tbody>\n",
       "    <tr>\n",
       "      <th>0</th>\n",
       "      <td>0.640000</td>\n",
       "      <td>0.95</td>\n",
       "      <td>2</td>\n",
       "      <td>1</td>\n",
       "      <td>0.882609</td>\n",
       "      <td>1</td>\n",
       "      <td>0.631714</td>\n",
       "      <td>163</td>\n",
       "      <td>1</td>\n",
       "    </tr>\n",
       "    <tr>\n",
       "      <th>1</th>\n",
       "      <td>0.511628</td>\n",
       "      <td>0.85</td>\n",
       "      <td>2</td>\n",
       "      <td>1</td>\n",
       "      <td>0.627778</td>\n",
       "      <td>1</td>\n",
       "      <td>0.631714</td>\n",
       "      <td>163</td>\n",
       "      <td>1</td>\n",
       "    </tr>\n",
       "    <tr>\n",
       "      <th>2</th>\n",
       "      <td>0.828571</td>\n",
       "      <td>0.90</td>\n",
       "      <td>4</td>\n",
       "      <td>1</td>\n",
       "      <td>0.775883</td>\n",
       "      <td>1</td>\n",
       "      <td>0.813397</td>\n",
       "      <td>188</td>\n",
       "      <td>0</td>\n",
       "    </tr>\n",
       "    <tr>\n",
       "      <th>3</th>\n",
       "      <td>0.752941</td>\n",
       "      <td>0.92</td>\n",
       "      <td>3</td>\n",
       "      <td>1</td>\n",
       "      <td>0.932974</td>\n",
       "      <td>1</td>\n",
       "      <td>0.703248</td>\n",
       "      <td>169</td>\n",
       "      <td>1</td>\n",
       "    </tr>\n",
       "    <tr>\n",
       "      <th>4</th>\n",
       "      <td>0.784314</td>\n",
       "      <td>0.92</td>\n",
       "      <td>3</td>\n",
       "      <td>1</td>\n",
       "      <td>0.888374</td>\n",
       "      <td>1</td>\n",
       "      <td>0.586463</td>\n",
       "      <td>128</td>\n",
       "      <td>1</td>\n",
       "    </tr>\n",
       "  </tbody>\n",
       "</table>\n",
       "</div>"
      ],
      "text/plain": [
       "   similarity  similarityThreshold  CPMSPC  CPTC      ASSR  DL       PCR  RRB  \\\n",
       "0    0.640000                 0.95       2     1  0.882609   1  0.631714  163   \n",
       "1    0.511628                 0.85       2     1  0.627778   1  0.631714  163   \n",
       "2    0.828571                 0.90       4     1  0.775883   1  0.813397  188   \n",
       "3    0.752941                 0.92       3     1  0.932974   1  0.703248  169   \n",
       "4    0.784314                 0.92       3     1  0.888374   1  0.586463  128   \n",
       "\n",
       "   LABEL  \n",
       "0      1  \n",
       "1      1  \n",
       "2      0  \n",
       "3      1  \n",
       "4      1  "
      ]
     },
     "execution_count": 6,
     "metadata": {},
     "output_type": "execute_result"
    }
   ],
   "source": [
    "oj_for_kmeans.head()"
   ]
  },
  {
   "cell_type": "code",
   "execution_count": 7,
   "metadata": {},
   "outputs": [
    {
     "data": {
      "text/plain": [
       "(22842, 9)"
      ]
     },
     "execution_count": 7,
     "metadata": {},
     "output_type": "execute_result"
    }
   ],
   "source": [
    "oj_for_kmeans.shape"
   ]
  },
  {
   "cell_type": "code",
   "execution_count": 8,
   "metadata": {},
   "outputs": [],
   "source": [
    "from sklearn.cluster import KMeans"
   ]
  },
  {
   "cell_type": "code",
   "execution_count": 9,
   "metadata": {},
   "outputs": [],
   "source": [
    "kmeans = KMeans(n_clusters=2, random_state=0).fit(oj_for_kmeans)"
   ]
  },
  {
   "cell_type": "code",
   "execution_count": 10,
   "metadata": {},
   "outputs": [
    {
     "data": {
      "text/plain": [
       "array([0, 0, 1, ..., 0, 0, 0])"
      ]
     },
     "execution_count": 10,
     "metadata": {},
     "output_type": "execute_result"
    }
   ],
   "source": [
    "arr=kmeans.labels_\n",
    "arr"
   ]
  },
  {
   "cell_type": "code",
   "execution_count": 11,
   "metadata": {},
   "outputs": [
    {
     "data": {
      "text/plain": [
       "array([[6.31093346e-01, 9.08727241e-01, 2.59164916e+00, 9.45290616e-01,\n",
       "        8.33536063e-01, 1.31959034e+00, 5.79782893e-01, 8.72750350e+01,\n",
       "        9.93172269e-01],\n",
       "       [6.67091506e-01, 9.23628481e-01, 2.71001927e+00, 9.37642319e-01,\n",
       "        8.46094341e-01, 1.21045717e+00, 5.29782034e-01, 2.59599755e+02,\n",
       "        2.89017341e-03]])"
      ]
     },
     "execution_count": 11,
     "metadata": {},
     "output_type": "execute_result"
    }
   ],
   "source": [
    "cluster_centers=kmeans.cluster_centers_\n",
    "cluster_centers"
   ]
  },
  {
   "cell_type": "code",
   "execution_count": 12,
   "metadata": {},
   "outputs": [],
   "source": [
    "def count(list_):\n",
    "  item_count = 0\n",
    "  for item in list_[:]:\n",
    "        if item == 0:\n",
    "            item_count = item_count + 1\n",
    "  return item_count"
   ]
  },
  {
   "cell_type": "code",
   "execution_count": 13,
   "metadata": {},
   "outputs": [
    {
     "name": "stdout",
     "output_type": "stream",
     "text": [
      "The size of 0 element in arr:  11424\n",
      "The size of 1 element in arr:  11418\n"
     ]
    }
   ],
   "source": [
    "print(\"The size of 0 element in arr: \", count(arr))\n",
    "print(\"The size of 1 element in arr: \", len(arr)-count(arr))"
   ]
  },
  {
   "cell_type": "code",
   "execution_count": 14,
   "metadata": {},
   "outputs": [],
   "source": [
    "import MySQLdb\n",
    "\n",
    "db=MySQLdb.connect(host='47.95.22.126',port=3306,user='root',passwd='dhuoj@124',db='gdoj',charset='utf8')\n",
    "c=db.cursor()"
   ]
  },
  {
   "cell_type": "code",
   "execution_count": 15,
   "metadata": {},
   "outputs": [],
   "source": [
    "# 构造一个专门从数据库当中查询数据的函数\n",
    "def get_data(sql):\n",
    "    c.execute(sql)\n",
    "    rows_list = []\n",
    "    for row in c.fetchall():\n",
    "        rows_list.append(row)\n",
    "    data = pd.DataFrame(data=rows_list)\n",
    "    return data;"
   ]
  },
  {
   "cell_type": "code",
   "execution_count": 16,
   "metadata": {},
   "outputs": [],
   "source": [
    "# 在上面的基础上，筛选出具有标签值的记录\n",
    "data_label = get_data(\"\"\"select s.id, sw.submited from solution s INNER JOIN problems p on s.similarity>0 and s.problemId=p.id INNER JOIN \n",
    "similaritywarning sw on sw.submited>=0 and s.id=sw.solutionId order by id asc\"\"\")\n",
    "\n",
    "data_label.columns=['sid', 'LABEL']"
   ]
  },
  {
   "cell_type": "code",
   "execution_count": 17,
   "metadata": {},
   "outputs": [
    {
     "name": "stdout",
     "output_type": "stream",
     "text": [
      "(3920, 2)\n",
      "1430\n",
      "2490\n"
     ]
    },
    {
     "data": {
      "text/html": [
       "<div>\n",
       "<style scoped>\n",
       "    .dataframe tbody tr th:only-of-type {\n",
       "        vertical-align: middle;\n",
       "    }\n",
       "\n",
       "    .dataframe tbody tr th {\n",
       "        vertical-align: top;\n",
       "    }\n",
       "\n",
       "    .dataframe thead th {\n",
       "        text-align: right;\n",
       "    }\n",
       "</style>\n",
       "<table border=\"1\" class=\"dataframe\">\n",
       "  <thead>\n",
       "    <tr style=\"text-align: right;\">\n",
       "      <th></th>\n",
       "      <th>sid</th>\n",
       "      <th>LABEL</th>\n",
       "    </tr>\n",
       "  </thead>\n",
       "  <tbody>\n",
       "    <tr>\n",
       "      <th>0</th>\n",
       "      <td>5605</td>\n",
       "      <td>1</td>\n",
       "    </tr>\n",
       "    <tr>\n",
       "      <th>1</th>\n",
       "      <td>6404</td>\n",
       "      <td>0</td>\n",
       "    </tr>\n",
       "    <tr>\n",
       "      <th>2</th>\n",
       "      <td>7597</td>\n",
       "      <td>0</td>\n",
       "    </tr>\n",
       "    <tr>\n",
       "      <th>3</th>\n",
       "      <td>7597</td>\n",
       "      <td>0</td>\n",
       "    </tr>\n",
       "    <tr>\n",
       "      <th>4</th>\n",
       "      <td>8183</td>\n",
       "      <td>0</td>\n",
       "    </tr>\n",
       "  </tbody>\n",
       "</table>\n",
       "</div>"
      ],
      "text/plain": [
       "    sid  LABEL\n",
       "0  5605      1\n",
       "1  6404      0\n",
       "2  7597      0\n",
       "3  7597      0\n",
       "4  8183      0"
      ]
     },
     "execution_count": 17,
     "metadata": {},
     "output_type": "execute_result"
    }
   ],
   "source": [
    "# 不抄袭的肯定比抄袭的要多很多，总记录数为3922条\n",
    "print(data_label.shape)\n",
    "print(len(data_label[data_label['LABEL']==1]))  # label=1代表抄袭\n",
    "print(len(data_label[data_label['LABEL']==0]))  # label=0代表不抄袭\n",
    "data_label.head()"
   ]
  },
  {
   "cell_type": "code",
   "execution_count": 18,
   "metadata": {},
   "outputs": [],
   "source": [
    "def convert_df_to_dict(df):\n",
    "    dict_temp={}\n",
    "    for index, row in df.iterrows():\n",
    "        dict_temp[row['sid']]=row['LABEL']\n",
    "    return dict_temp"
   ]
  },
  {
   "cell_type": "code",
   "execution_count": 19,
   "metadata": {},
   "outputs": [],
   "source": [
    "data_label_dict=convert_df_to_dict(data_label)"
   ]
  },
  {
   "cell_type": "code",
   "execution_count": 20,
   "metadata": {},
   "outputs": [],
   "source": [
    "oj_data['LABEL']=-1"
   ]
  },
  {
   "cell_type": "code",
   "execution_count": 21,
   "metadata": {},
   "outputs": [
    {
     "data": {
      "text/html": [
       "<div>\n",
       "<style scoped>\n",
       "    .dataframe tbody tr th:only-of-type {\n",
       "        vertical-align: middle;\n",
       "    }\n",
       "\n",
       "    .dataframe tbody tr th {\n",
       "        vertical-align: top;\n",
       "    }\n",
       "\n",
       "    .dataframe thead th {\n",
       "        text-align: right;\n",
       "    }\n",
       "</style>\n",
       "<table border=\"1\" class=\"dataframe\">\n",
       "  <thead>\n",
       "    <tr style=\"text-align: right;\">\n",
       "      <th></th>\n",
       "      <th>sid</th>\n",
       "      <th>sim_id</th>\n",
       "      <th>uid</th>\n",
       "      <th>sim_uid</th>\n",
       "      <th>similarity</th>\n",
       "      <th>similarityThreshold</th>\n",
       "      <th>CPMS</th>\n",
       "      <th>CPMSPC</th>\n",
       "      <th>CPTC</th>\n",
       "      <th>ASSR</th>\n",
       "      <th>DL</th>\n",
       "      <th>PR</th>\n",
       "      <th>PCR</th>\n",
       "      <th>RRB</th>\n",
       "      <th>LABEL</th>\n",
       "    </tr>\n",
       "  </thead>\n",
       "  <tbody>\n",
       "    <tr>\n",
       "      <th>0</th>\n",
       "      <td>5409</td>\n",
       "      <td>7322</td>\n",
       "      <td>43</td>\n",
       "      <td>190</td>\n",
       "      <td>0.640000</td>\n",
       "      <td>0.95</td>\n",
       "      <td>0</td>\n",
       "      <td>2</td>\n",
       "      <td>1</td>\n",
       "      <td>0.882609</td>\n",
       "      <td>1</td>\n",
       "      <td>1.0</td>\n",
       "      <td>0.631714</td>\n",
       "      <td>163</td>\n",
       "      <td>-1</td>\n",
       "    </tr>\n",
       "    <tr>\n",
       "      <th>1</th>\n",
       "      <td>5549</td>\n",
       "      <td>5534</td>\n",
       "      <td>43</td>\n",
       "      <td>71</td>\n",
       "      <td>0.511628</td>\n",
       "      <td>0.85</td>\n",
       "      <td>0</td>\n",
       "      <td>2</td>\n",
       "      <td>1</td>\n",
       "      <td>0.627778</td>\n",
       "      <td>1</td>\n",
       "      <td>1.0</td>\n",
       "      <td>0.631714</td>\n",
       "      <td>163</td>\n",
       "      <td>-1</td>\n",
       "    </tr>\n",
       "    <tr>\n",
       "      <th>2</th>\n",
       "      <td>6134</td>\n",
       "      <td>4991</td>\n",
       "      <td>29</td>\n",
       "      <td>20</td>\n",
       "      <td>0.828571</td>\n",
       "      <td>0.90</td>\n",
       "      <td>0</td>\n",
       "      <td>4</td>\n",
       "      <td>1</td>\n",
       "      <td>0.775883</td>\n",
       "      <td>1</td>\n",
       "      <td>0.0</td>\n",
       "      <td>0.813397</td>\n",
       "      <td>188</td>\n",
       "      <td>-1</td>\n",
       "    </tr>\n",
       "    <tr>\n",
       "      <th>3</th>\n",
       "      <td>6638</td>\n",
       "      <td>5825</td>\n",
       "      <td>50</td>\n",
       "      <td>72</td>\n",
       "      <td>0.752941</td>\n",
       "      <td>0.92</td>\n",
       "      <td>0</td>\n",
       "      <td>3</td>\n",
       "      <td>1</td>\n",
       "      <td>0.932974</td>\n",
       "      <td>1</td>\n",
       "      <td>1.0</td>\n",
       "      <td>0.703248</td>\n",
       "      <td>169</td>\n",
       "      <td>-1</td>\n",
       "    </tr>\n",
       "    <tr>\n",
       "      <th>4</th>\n",
       "      <td>6915</td>\n",
       "      <td>6597</td>\n",
       "      <td>28</td>\n",
       "      <td>24</td>\n",
       "      <td>0.784314</td>\n",
       "      <td>0.92</td>\n",
       "      <td>0</td>\n",
       "      <td>3</td>\n",
       "      <td>1</td>\n",
       "      <td>0.888374</td>\n",
       "      <td>1</td>\n",
       "      <td>1.0</td>\n",
       "      <td>0.586463</td>\n",
       "      <td>128</td>\n",
       "      <td>-1</td>\n",
       "    </tr>\n",
       "  </tbody>\n",
       "</table>\n",
       "</div>"
      ],
      "text/plain": [
       "    sid  sim_id  uid  sim_uid  similarity  similarityThreshold  CPMS  CPMSPC  \\\n",
       "0  5409    7322   43      190    0.640000                 0.95     0       2   \n",
       "1  5549    5534   43       71    0.511628                 0.85     0       2   \n",
       "2  6134    4991   29       20    0.828571                 0.90     0       4   \n",
       "3  6638    5825   50       72    0.752941                 0.92     0       3   \n",
       "4  6915    6597   28       24    0.784314                 0.92     0       3   \n",
       "\n",
       "   CPTC      ASSR  DL   PR       PCR  RRB  LABEL  \n",
       "0     1  0.882609   1  1.0  0.631714  163     -1  \n",
       "1     1  0.627778   1  1.0  0.631714  163     -1  \n",
       "2     1  0.775883   1  0.0  0.813397  188     -1  \n",
       "3     1  0.932974   1  1.0  0.703248  169     -1  \n",
       "4     1  0.888374   1  1.0  0.586463  128     -1  "
      ]
     },
     "execution_count": 21,
     "metadata": {},
     "output_type": "execute_result"
    }
   ],
   "source": [
    "oj_data.head()"
   ]
  },
  {
   "cell_type": "code",
   "execution_count": 22,
   "metadata": {},
   "outputs": [],
   "source": [
    "def change_label(row):\n",
    "    if row['sid'] in data_label_dict:\n",
    "        return data_label_dict[row['sid']]\n",
    "    else:\n",
    "        return -1"
   ]
  },
  {
   "cell_type": "code",
   "execution_count": 23,
   "metadata": {},
   "outputs": [],
   "source": [
    "oj_data['LABEL']=oj_data.apply(func=change_label, axis=1)"
   ]
  },
  {
   "cell_type": "code",
   "execution_count": 24,
   "metadata": {},
   "outputs": [
    {
     "data": {
      "text/plain": [
       "-1    22609\n",
       " 0      127\n",
       " 1      106\n",
       "Name: LABEL, dtype: int64"
      ]
     },
     "execution_count": 24,
     "metadata": {},
     "output_type": "execute_result"
    }
   ],
   "source": [
    "oj_data['LABEL'].value_counts()"
   ]
  },
  {
   "cell_type": "code",
   "execution_count": 24,
   "metadata": {},
   "outputs": [
    {
     "data": {
      "text/plain": [
       "array([0, 0, 0, ..., 0, 1, 1])"
      ]
     },
     "execution_count": 24,
     "metadata": {},
     "output_type": "execute_result"
    }
   ],
   "source": [
    "arr"
   ]
  },
  {
   "cell_type": "code",
   "execution_count": 25,
   "metadata": {},
   "outputs": [
    {
     "name": "stdout",
     "output_type": "stream",
     "text": [
      "233\n"
     ]
    }
   ],
   "source": [
    "print(len(oj_data[oj_data['LABEL']!=-1]))\n",
    "oj_data_true=oj_data[oj_data['LABEL']!=-1]"
   ]
  },
  {
   "cell_type": "code",
   "execution_count": 26,
   "metadata": {},
   "outputs": [
    {
     "name": "stderr",
     "output_type": "stream",
     "text": [
      "D:\\Anaconda\\Anaconda3\\lib\\site-packages\\pandas\\core\\frame.py:3694: SettingWithCopyWarning: \n",
      "A value is trying to be set on a copy of a slice from a DataFrame\n",
      "\n",
      "See the caveats in the documentation: http://pandas.pydata.org/pandas-docs/stable/indexing.html#indexing-view-versus-copy\n",
      "  errors=errors)\n"
     ]
    }
   ],
   "source": [
    "columns = ['sid', 'sim_id', 'uid', 'sim_uid', 'CPMS', 'PR']\n",
    "oj_data_true.drop(columns, inplace=True, axis=1) # \"inplace=True\" indicate that delete columns in-place"
   ]
  },
  {
   "cell_type": "code",
   "execution_count": 67,
   "metadata": {},
   "outputs": [],
   "source": [
    "oj_data_true.reset_index(drop=True, inplace=True) # 将oj_data_true的index重新按照从0开始计数"
   ]
  },
  {
   "cell_type": "code",
   "execution_count": 69,
   "metadata": {
    "scrolled": true
   },
   "outputs": [
    {
     "name": "stdout",
     "output_type": "stream",
     "text": [
      "(233, 10)\n"
     ]
    },
    {
     "data": {
      "text/html": [
       "<div>\n",
       "<style scoped>\n",
       "    .dataframe tbody tr th:only-of-type {\n",
       "        vertical-align: middle;\n",
       "    }\n",
       "\n",
       "    .dataframe tbody tr th {\n",
       "        vertical-align: top;\n",
       "    }\n",
       "\n",
       "    .dataframe thead th {\n",
       "        text-align: right;\n",
       "    }\n",
       "</style>\n",
       "<table border=\"1\" class=\"dataframe\">\n",
       "  <thead>\n",
       "    <tr style=\"text-align: right;\">\n",
       "      <th></th>\n",
       "      <th>similarity</th>\n",
       "      <th>similarityThreshold</th>\n",
       "      <th>CPMSPC</th>\n",
       "      <th>CPTC</th>\n",
       "      <th>ASSR</th>\n",
       "      <th>DL</th>\n",
       "      <th>PCR</th>\n",
       "      <th>RRB</th>\n",
       "      <th>LABEL</th>\n",
       "      <th>LABEL_FOR_KMEANS</th>\n",
       "    </tr>\n",
       "  </thead>\n",
       "  <tbody>\n",
       "    <tr>\n",
       "      <th>0</th>\n",
       "      <td>0.857143</td>\n",
       "      <td>0.95</td>\n",
       "      <td>4</td>\n",
       "      <td>1</td>\n",
       "      <td>0.967105</td>\n",
       "      <td>1</td>\n",
       "      <td>0.565435</td>\n",
       "      <td>145</td>\n",
       "      <td>1</td>\n",
       "      <td>0</td>\n",
       "    </tr>\n",
       "    <tr>\n",
       "      <th>1</th>\n",
       "      <td>0.937500</td>\n",
       "      <td>0.98</td>\n",
       "      <td>4</td>\n",
       "      <td>1</td>\n",
       "      <td>0.908564</td>\n",
       "      <td>1</td>\n",
       "      <td>0.780564</td>\n",
       "      <td>22</td>\n",
       "      <td>0</td>\n",
       "      <td>0</td>\n",
       "    </tr>\n",
       "    <tr>\n",
       "      <th>2</th>\n",
       "      <td>0.937500</td>\n",
       "      <td>0.98</td>\n",
       "      <td>4</td>\n",
       "      <td>1</td>\n",
       "      <td>0.908564</td>\n",
       "      <td>1</td>\n",
       "      <td>0.780564</td>\n",
       "      <td>22</td>\n",
       "      <td>0</td>\n",
       "      <td>0</td>\n",
       "    </tr>\n",
       "    <tr>\n",
       "      <th>3</th>\n",
       "      <td>0.852459</td>\n",
       "      <td>0.99</td>\n",
       "      <td>3</td>\n",
       "      <td>1</td>\n",
       "      <td>0.920738</td>\n",
       "      <td>1</td>\n",
       "      <td>0.618727</td>\n",
       "      <td>36</td>\n",
       "      <td>0</td>\n",
       "      <td>0</td>\n",
       "    </tr>\n",
       "    <tr>\n",
       "      <th>4</th>\n",
       "      <td>0.808511</td>\n",
       "      <td>0.99</td>\n",
       "      <td>3</td>\n",
       "      <td>1</td>\n",
       "      <td>0.861854</td>\n",
       "      <td>1</td>\n",
       "      <td>0.691346</td>\n",
       "      <td>77</td>\n",
       "      <td>1</td>\n",
       "      <td>0</td>\n",
       "    </tr>\n",
       "  </tbody>\n",
       "</table>\n",
       "</div>"
      ],
      "text/plain": [
       "   similarity  similarityThreshold  CPMSPC  CPTC      ASSR  DL       PCR  RRB  \\\n",
       "0    0.857143                 0.95       4     1  0.967105   1  0.565435  145   \n",
       "1    0.937500                 0.98       4     1  0.908564   1  0.780564   22   \n",
       "2    0.937500                 0.98       4     1  0.908564   1  0.780564   22   \n",
       "3    0.852459                 0.99       3     1  0.920738   1  0.618727   36   \n",
       "4    0.808511                 0.99       3     1  0.861854   1  0.691346   77   \n",
       "\n",
       "   LABEL  LABEL_FOR_KMEANS  \n",
       "0      1                 0  \n",
       "1      0                 0  \n",
       "2      0                 0  \n",
       "3      0                 0  \n",
       "4      1                 0  "
      ]
     },
     "execution_count": 69,
     "metadata": {},
     "output_type": "execute_result"
    }
   ],
   "source": [
    "print(oj_data_true.shape)\n",
    "oj_data_true.head()"
   ]
  },
  {
   "cell_type": "code",
   "execution_count": 58,
   "metadata": {},
   "outputs": [],
   "source": [
    "# 计算两个向量的欧式距离（可根据场景选择其他距离公式）\n",
    "def distEclud(vecA, vecB):\n",
    "    return np.sqrt(np.sum(np.square(vecA - vecB))) # la.norm(vecA-vecB)\n",
    "#     return np.sum(np.abs(vecA - vecB))"
   ]
  },
  {
   "cell_type": "code",
   "execution_count": 59,
   "metadata": {},
   "outputs": [
    {
     "data": {
      "text/plain": [
       "75.72801588347426"
      ]
     },
     "execution_count": 59,
     "metadata": {},
     "output_type": "execute_result"
    }
   ],
   "source": [
    "distEclud(oj_for_kmeans.iloc[0, :], cluster_centers[0])"
   ]
  },
  {
   "cell_type": "code",
   "execution_count": 60,
   "metadata": {},
   "outputs": [
    {
     "data": {
      "text/plain": [
       "96.60268155198106"
      ]
     },
     "execution_count": 60,
     "metadata": {},
     "output_type": "execute_result"
    }
   ],
   "source": [
    "distEclud(oj_for_kmeans.iloc[0, :], cluster_centers[1])"
   ]
  },
  {
   "cell_type": "code",
   "execution_count": 31,
   "metadata": {},
   "outputs": [],
   "source": [
    "import sys\n",
    "max_value=sys.maxsize"
   ]
  },
  {
   "cell_type": "code",
   "execution_count": 32,
   "metadata": {},
   "outputs": [],
   "source": [
    "def cal_center_label(df, vecB):\n",
    "    index=-1\n",
    "    label=-1\n",
    "    min_=max_value\n",
    "    for i, row in df.iterrows():\n",
    "        distance=distEclud(row.iloc[0:8], vecB)\n",
    "        if distance<min_:\n",
    "            min_=distance\n",
    "            index=i\n",
    "            label=row['LABEL']\n",
    "    return index, label\n",
    "\n",
    "def cal_label_for_kmeans(row):\n",
    "    if distEclud(row[0:8], cluster_centers[0])<distEclud(row[0:8], cluster_centers[1]):\n",
    "        label=0\n",
    "    else:\n",
    "        label=1\n",
    "    return label"
   ]
  },
  {
   "cell_type": "code",
   "execution_count": null,
   "metadata": {},
   "outputs": [],
   "source": [
    "oj_data_true['LABEL_FOR_KMEANS']=-1"
   ]
  },
  {
   "cell_type": "code",
   "execution_count": 40,
   "metadata": {},
   "outputs": [
    {
     "name": "stderr",
     "output_type": "stream",
     "text": [
      "D:\\Anaconda\\Anaconda3\\lib\\site-packages\\ipykernel_launcher.py:1: SettingWithCopyWarning: \n",
      "A value is trying to be set on a copy of a slice from a DataFrame.\n",
      "Try using .loc[row_indexer,col_indexer] = value instead\n",
      "\n",
      "See the caveats in the documentation: http://pandas.pydata.org/pandas-docs/stable/indexing.html#indexing-view-versus-copy\n",
      "  \"\"\"Entry point for launching an IPython kernel.\n"
     ]
    }
   ],
   "source": [
    "oj_data_true['LABEL_FOR_KMEANS']=oj_data_true.apply(func=cal_label_for_kmeans, axis=1)"
   ]
  },
  {
   "cell_type": "code",
   "execution_count": 37,
   "metadata": {},
   "outputs": [
    {
     "data": {
      "text/plain": [
       "(240, 1.0)"
      ]
     },
     "execution_count": 37,
     "metadata": {},
     "output_type": "execute_result"
    }
   ],
   "source": [
    "cal_center_label(oj_data_true, cluster_centers[0])"
   ]
  },
  {
   "cell_type": "code",
   "execution_count": 38,
   "metadata": {},
   "outputs": [
    {
     "data": {
      "text/plain": [
       "(16508, 1.0)"
      ]
     },
     "execution_count": 38,
     "metadata": {},
     "output_type": "execute_result"
    }
   ],
   "source": [
    "cal_center_label(oj_data_true, cluster_centers[1])"
   ]
  },
  {
   "cell_type": "code",
   "execution_count": 46,
   "metadata": {},
   "outputs": [
    {
     "data": {
      "text/plain": [
       "0    150\n",
       "1     83\n",
       "Name: LABEL_FOR_KMEANS, dtype: int64"
      ]
     },
     "execution_count": 46,
     "metadata": {},
     "output_type": "execute_result"
    }
   ],
   "source": [
    "oj_data_true['LABEL_FOR_KMEANS'].value_counts()"
   ]
  },
  {
   "cell_type": "code",
   "execution_count": 47,
   "metadata": {},
   "outputs": [
    {
     "data": {
      "text/plain": [
       "0    128\n",
       "1    105\n",
       "Name: LABEL, dtype: int64"
      ]
     },
     "execution_count": 47,
     "metadata": {},
     "output_type": "execute_result"
    }
   ],
   "source": [
    "oj_data_true['LABEL'].value_counts()"
   ]
  },
  {
   "cell_type": "code",
   "execution_count": 43,
   "metadata": {},
   "outputs": [
    {
     "data": {
      "text/plain": [
       "0    0\n",
       "dtype: int64"
      ]
     },
     "execution_count": 43,
     "metadata": {},
     "output_type": "execute_result"
    }
   ],
   "source": [
    "oj_data_true[oj_data_true['LABEL_FOR_KMEANS']==0]['LABEL'].mode()"
   ]
  },
  {
   "cell_type": "code",
   "execution_count": 44,
   "metadata": {},
   "outputs": [
    {
     "data": {
      "text/plain": [
       "0    0\n",
       "dtype: int64"
      ]
     },
     "execution_count": 44,
     "metadata": {},
     "output_type": "execute_result"
    }
   ],
   "source": [
    "oj_data_true[oj_data_true['LABEL_FOR_KMEANS']==1]['LABEL'].mode()"
   ]
  },
  {
   "cell_type": "code",
   "execution_count": 81,
   "metadata": {},
   "outputs": [
    {
     "data": {
      "text/plain": [
       "NearestNeighbors(algorithm='auto', leaf_size=30, metric='minkowski',\n",
       "         metric_params=None, n_jobs=1, n_neighbors=7, p=2, radius=1.0)"
      ]
     },
     "execution_count": 81,
     "metadata": {},
     "output_type": "execute_result"
    }
   ],
   "source": [
    "from sklearn.neighbors import NearestNeighbors\n",
    "\n",
    "neigh = NearestNeighbors(n_neighbors=7)\n",
    "neigh.fit(oj_data_true.iloc[:, 0:8])"
   ]
  },
  {
   "cell_type": "code",
   "execution_count": 82,
   "metadata": {},
   "outputs": [
    {
     "name": "stdout",
     "output_type": "stream",
     "text": [
      "(array([[1.51748096, 2.26250679, 2.35511077, 2.47023467, 3.7670524 ,\n",
      "        4.00596377, 6.4705134 ],\n",
      "       [2.08928422, 5.57536635, 5.57826272, 6.54044181, 7.41254111,\n",
      "        7.52046433, 7.52174123]]), array([[ 20,   5, 165,  76, 185, 193,  89],\n",
      "       [227, 190, 213, 229,  53,  33,  57]], dtype=int64))\n"
     ]
    }
   ],
   "source": [
    "print(neigh.kneighbors(cluster_centers))"
   ]
  },
  {
   "cell_type": "code",
   "execution_count": 86,
   "metadata": {},
   "outputs": [
    {
     "name": "stdout",
     "output_type": "stream",
     "text": [
      "1.5174809618233962\n",
      "2.0892842241938356\n"
     ]
    }
   ],
   "source": [
    "print(distEclud(oj_data_true.iloc[20, 0:8], cluster_centers[0]))\n",
    "print(distEclud(oj_data_true.iloc[227, 0:8], cluster_centers[1]))"
   ]
  },
  {
   "cell_type": "code",
   "execution_count": 83,
   "metadata": {},
   "outputs": [
    {
     "name": "stdout",
     "output_type": "stream",
     "text": [
      "     similarity  similarityThreshold  CPMSPC  CPTC      ASSR  DL       PCR  \\\n",
      "20     0.954545                 0.99       4     1  0.998258   1  0.592492   \n",
      "5      0.818182                 0.90       4     1  0.816584   1  0.719368   \n",
      "165    0.920635                 0.95       4     1  0.962448   2  0.719368   \n",
      "76     0.938776                 0.99       4     0  0.996732   1  0.719368   \n",
      "185    0.833333                 0.95       3     1  0.812387   1  0.560123   \n",
      "193    0.897436                 0.95       4     1  0.937315   1  0.560123   \n",
      "89     0.808511                 0.86       4     1  0.913800   2  0.622010   \n",
      "\n",
      "     RRB  LABEL  LABEL_FOR_KMEANS  \n",
      "20    87      1                 0  \n",
      "5     89      0                 0  \n",
      "165   89      0                 0  \n",
      "76    89      1                 0  \n",
      "185   91      1                 0  \n",
      "193   91      1                 0  \n",
      "89    81      1                 0  \n"
     ]
    }
   ],
   "source": [
    "print(oj_data_true.loc[[20,   5, 165,  76, 185, 193,  89]]) # LABEL_FOR_KMEANS=0 对应 LABEL=1"
   ]
  },
  {
   "cell_type": "code",
   "execution_count": 85,
   "metadata": {},
   "outputs": [
    {
     "name": "stdout",
     "output_type": "stream",
     "text": [
      "     similarity  similarityThreshold  CPMSPC  CPTC      ASSR  DL       PCR  \\\n",
      "227    0.900000                 0.90       4     1  0.922446   1  0.711518   \n",
      "190    0.900000                 0.90       4     1  0.900000   1  0.919808   \n",
      "213    0.928571                 0.97       4     1  0.985714   1  0.919808   \n",
      "229    0.950000                 0.95       4     1  0.969534   1  0.452070   \n",
      "53     0.842105                 0.96       3     1  0.948880   1  0.615510   \n",
      "33     0.921053                 0.95       4     1  0.940868   1  0.615510   \n",
      "57     0.928571                 0.96       4     1  1.000000   1  0.615510   \n",
      "\n",
      "     RRB  LABEL  LABEL_FOR_KMEANS  \n",
      "227  258      1                 1  \n",
      "190  265      1                 1  \n",
      "213  265      0                 1  \n",
      "229  266      0                 1  \n",
      "53   267      0                 1  \n",
      "33   267      0                 1  \n",
      "57   267      0                 1  \n"
     ]
    }
   ],
   "source": [
    "print(oj_data_true.loc[[227, 190, 213, 229,  53,  33,  57]]) # LABEL_FOR_KMEANS=1 对应 LABEL=0"
   ]
  },
  {
   "cell_type": "code",
   "execution_count": 106,
   "metadata": {},
   "outputs": [
    {
     "data": {
      "text/plain": [
       "-1    22609\n",
       " 0      128\n",
       " 1      105\n",
       "Name: LABEL, dtype: int64"
      ]
     },
     "execution_count": 106,
     "metadata": {},
     "output_type": "execute_result"
    }
   ],
   "source": [
    "oj_data['LABEL'].value_counts()"
   ]
  },
  {
   "cell_type": "code",
   "execution_count": 114,
   "metadata": {},
   "outputs": [
    {
     "name": "stdout",
     "output_type": "stream",
     "text": [
      "(22842, 15)\n"
     ]
    },
    {
     "data": {
      "text/html": [
       "<div>\n",
       "<style scoped>\n",
       "    .dataframe tbody tr th:only-of-type {\n",
       "        vertical-align: middle;\n",
       "    }\n",
       "\n",
       "    .dataframe tbody tr th {\n",
       "        vertical-align: top;\n",
       "    }\n",
       "\n",
       "    .dataframe thead th {\n",
       "        text-align: right;\n",
       "    }\n",
       "</style>\n",
       "<table border=\"1\" class=\"dataframe\">\n",
       "  <thead>\n",
       "    <tr style=\"text-align: right;\">\n",
       "      <th></th>\n",
       "      <th>sid</th>\n",
       "      <th>sim_id</th>\n",
       "      <th>uid</th>\n",
       "      <th>sim_uid</th>\n",
       "      <th>similarity</th>\n",
       "      <th>similarityThreshold</th>\n",
       "      <th>CPMS</th>\n",
       "      <th>CPMSPC</th>\n",
       "      <th>CPTC</th>\n",
       "      <th>ASSR</th>\n",
       "      <th>DL</th>\n",
       "      <th>PR</th>\n",
       "      <th>PCR</th>\n",
       "      <th>RRB</th>\n",
       "      <th>LABEL</th>\n",
       "    </tr>\n",
       "  </thead>\n",
       "  <tbody>\n",
       "    <tr>\n",
       "      <th>0</th>\n",
       "      <td>5409</td>\n",
       "      <td>7322</td>\n",
       "      <td>43</td>\n",
       "      <td>190</td>\n",
       "      <td>0.640000</td>\n",
       "      <td>0.95</td>\n",
       "      <td>0</td>\n",
       "      <td>2</td>\n",
       "      <td>1</td>\n",
       "      <td>0.882609</td>\n",
       "      <td>1</td>\n",
       "      <td>NaN</td>\n",
       "      <td>0.631714</td>\n",
       "      <td>163</td>\n",
       "      <td>-1</td>\n",
       "    </tr>\n",
       "    <tr>\n",
       "      <th>1</th>\n",
       "      <td>5549</td>\n",
       "      <td>5534</td>\n",
       "      <td>43</td>\n",
       "      <td>71</td>\n",
       "      <td>0.511628</td>\n",
       "      <td>0.85</td>\n",
       "      <td>0</td>\n",
       "      <td>2</td>\n",
       "      <td>1</td>\n",
       "      <td>0.627778</td>\n",
       "      <td>1</td>\n",
       "      <td>NaN</td>\n",
       "      <td>0.631714</td>\n",
       "      <td>163</td>\n",
       "      <td>-1</td>\n",
       "    </tr>\n",
       "    <tr>\n",
       "      <th>2</th>\n",
       "      <td>5605</td>\n",
       "      <td>5345</td>\n",
       "      <td>31</td>\n",
       "      <td>53</td>\n",
       "      <td>0.857143</td>\n",
       "      <td>0.95</td>\n",
       "      <td>0</td>\n",
       "      <td>4</td>\n",
       "      <td>1</td>\n",
       "      <td>0.967105</td>\n",
       "      <td>1</td>\n",
       "      <td>NaN</td>\n",
       "      <td>0.565435</td>\n",
       "      <td>145</td>\n",
       "      <td>1</td>\n",
       "    </tr>\n",
       "    <tr>\n",
       "      <th>3</th>\n",
       "      <td>6134</td>\n",
       "      <td>4991</td>\n",
       "      <td>29</td>\n",
       "      <td>20</td>\n",
       "      <td>0.828571</td>\n",
       "      <td>0.90</td>\n",
       "      <td>0</td>\n",
       "      <td>4</td>\n",
       "      <td>1</td>\n",
       "      <td>0.775883</td>\n",
       "      <td>1</td>\n",
       "      <td>NaN</td>\n",
       "      <td>0.813397</td>\n",
       "      <td>188</td>\n",
       "      <td>-1</td>\n",
       "    </tr>\n",
       "    <tr>\n",
       "      <th>4</th>\n",
       "      <td>6638</td>\n",
       "      <td>5825</td>\n",
       "      <td>50</td>\n",
       "      <td>72</td>\n",
       "      <td>0.752941</td>\n",
       "      <td>0.92</td>\n",
       "      <td>0</td>\n",
       "      <td>3</td>\n",
       "      <td>1</td>\n",
       "      <td>0.932974</td>\n",
       "      <td>1</td>\n",
       "      <td>NaN</td>\n",
       "      <td>0.703248</td>\n",
       "      <td>169</td>\n",
       "      <td>-1</td>\n",
       "    </tr>\n",
       "  </tbody>\n",
       "</table>\n",
       "</div>"
      ],
      "text/plain": [
       "    sid  sim_id  uid  sim_uid  similarity  similarityThreshold  CPMS  CPMSPC  \\\n",
       "0  5409    7322   43      190    0.640000                 0.95     0       2   \n",
       "1  5549    5534   43       71    0.511628                 0.85     0       2   \n",
       "2  5605    5345   31       53    0.857143                 0.95     0       4   \n",
       "3  6134    4991   29       20    0.828571                 0.90     0       4   \n",
       "4  6638    5825   50       72    0.752941                 0.92     0       3   \n",
       "\n",
       "   CPTC      ASSR  DL  PR       PCR  RRB  LABEL  \n",
       "0     1  0.882609   1 NaN  0.631714  163     -1  \n",
       "1     1  0.627778   1 NaN  0.631714  163     -1  \n",
       "2     1  0.967105   1 NaN  0.565435  145      1  \n",
       "3     1  0.775883   1 NaN  0.813397  188     -1  \n",
       "4     1  0.932974   1 NaN  0.703248  169     -1  "
      ]
     },
     "execution_count": 114,
     "metadata": {},
     "output_type": "execute_result"
    }
   ],
   "source": [
    "print(oj_data.shape)\n",
    "oj_data.head()"
   ]
  },
  {
   "cell_type": "code",
   "execution_count": 112,
   "metadata": {},
   "outputs": [
    {
     "data": {
      "text/plain": [
       "22842"
      ]
     },
     "execution_count": 112,
     "metadata": {},
     "output_type": "execute_result"
    }
   ],
   "source": [
    "len(arr)"
   ]
  },
  {
   "cell_type": "code",
   "execution_count": 115,
   "metadata": {},
   "outputs": [],
   "source": [
    "oj_data_copy=oj_data.copy()"
   ]
  },
  {
   "cell_type": "code",
   "execution_count": 117,
   "metadata": {},
   "outputs": [
    {
     "data": {
      "text/plain": [
       "(22842, 15)"
      ]
     },
     "execution_count": 117,
     "metadata": {},
     "output_type": "execute_result"
    }
   ],
   "source": [
    "oj_data_copy.shape"
   ]
  },
  {
   "cell_type": "code",
   "execution_count": 118,
   "metadata": {},
   "outputs": [],
   "source": [
    "oj_data_copy['LABEL_FOR_KMEANS']=-1"
   ]
  },
  {
   "cell_type": "code",
   "execution_count": 130,
   "metadata": {},
   "outputs": [
    {
     "data": {
      "text/html": [
       "<div>\n",
       "<style scoped>\n",
       "    .dataframe tbody tr th:only-of-type {\n",
       "        vertical-align: middle;\n",
       "    }\n",
       "\n",
       "    .dataframe tbody tr th {\n",
       "        vertical-align: top;\n",
       "    }\n",
       "\n",
       "    .dataframe thead th {\n",
       "        text-align: right;\n",
       "    }\n",
       "</style>\n",
       "<table border=\"1\" class=\"dataframe\">\n",
       "  <thead>\n",
       "    <tr style=\"text-align: right;\">\n",
       "      <th></th>\n",
       "      <th>sid</th>\n",
       "      <th>sim_id</th>\n",
       "      <th>uid</th>\n",
       "      <th>sim_uid</th>\n",
       "      <th>similarity</th>\n",
       "      <th>similarityThreshold</th>\n",
       "      <th>CPMS</th>\n",
       "      <th>CPMSPC</th>\n",
       "      <th>CPTC</th>\n",
       "      <th>ASSR</th>\n",
       "      <th>DL</th>\n",
       "      <th>PR</th>\n",
       "      <th>PCR</th>\n",
       "      <th>RRB</th>\n",
       "      <th>LABEL</th>\n",
       "      <th>LABEL_FOR_KMEANS</th>\n",
       "    </tr>\n",
       "  </thead>\n",
       "  <tbody>\n",
       "    <tr>\n",
       "      <th>0</th>\n",
       "      <td>5409</td>\n",
       "      <td>7322</td>\n",
       "      <td>43</td>\n",
       "      <td>190</td>\n",
       "      <td>0.640000</td>\n",
       "      <td>0.95</td>\n",
       "      <td>0</td>\n",
       "      <td>2</td>\n",
       "      <td>1</td>\n",
       "      <td>0.882609</td>\n",
       "      <td>1</td>\n",
       "      <td>NaN</td>\n",
       "      <td>0.631714</td>\n",
       "      <td>163</td>\n",
       "      <td>-1</td>\n",
       "      <td>0</td>\n",
       "    </tr>\n",
       "    <tr>\n",
       "      <th>1</th>\n",
       "      <td>5549</td>\n",
       "      <td>5534</td>\n",
       "      <td>43</td>\n",
       "      <td>71</td>\n",
       "      <td>0.511628</td>\n",
       "      <td>0.85</td>\n",
       "      <td>0</td>\n",
       "      <td>2</td>\n",
       "      <td>1</td>\n",
       "      <td>0.627778</td>\n",
       "      <td>1</td>\n",
       "      <td>NaN</td>\n",
       "      <td>0.631714</td>\n",
       "      <td>163</td>\n",
       "      <td>-1</td>\n",
       "      <td>0</td>\n",
       "    </tr>\n",
       "    <tr>\n",
       "      <th>2</th>\n",
       "      <td>5605</td>\n",
       "      <td>5345</td>\n",
       "      <td>31</td>\n",
       "      <td>53</td>\n",
       "      <td>0.857143</td>\n",
       "      <td>0.95</td>\n",
       "      <td>0</td>\n",
       "      <td>4</td>\n",
       "      <td>1</td>\n",
       "      <td>0.967105</td>\n",
       "      <td>1</td>\n",
       "      <td>NaN</td>\n",
       "      <td>0.565435</td>\n",
       "      <td>145</td>\n",
       "      <td>1</td>\n",
       "      <td>0</td>\n",
       "    </tr>\n",
       "    <tr>\n",
       "      <th>3</th>\n",
       "      <td>6134</td>\n",
       "      <td>4991</td>\n",
       "      <td>29</td>\n",
       "      <td>20</td>\n",
       "      <td>0.828571</td>\n",
       "      <td>0.90</td>\n",
       "      <td>0</td>\n",
       "      <td>4</td>\n",
       "      <td>1</td>\n",
       "      <td>0.775883</td>\n",
       "      <td>1</td>\n",
       "      <td>NaN</td>\n",
       "      <td>0.813397</td>\n",
       "      <td>188</td>\n",
       "      <td>-1</td>\n",
       "      <td>1</td>\n",
       "    </tr>\n",
       "    <tr>\n",
       "      <th>4</th>\n",
       "      <td>6638</td>\n",
       "      <td>5825</td>\n",
       "      <td>50</td>\n",
       "      <td>72</td>\n",
       "      <td>0.752941</td>\n",
       "      <td>0.92</td>\n",
       "      <td>0</td>\n",
       "      <td>3</td>\n",
       "      <td>1</td>\n",
       "      <td>0.932974</td>\n",
       "      <td>1</td>\n",
       "      <td>NaN</td>\n",
       "      <td>0.703248</td>\n",
       "      <td>169</td>\n",
       "      <td>-1</td>\n",
       "      <td>0</td>\n",
       "    </tr>\n",
       "  </tbody>\n",
       "</table>\n",
       "</div>"
      ],
      "text/plain": [
       "    sid  sim_id  uid  sim_uid  similarity  similarityThreshold  CPMS  CPMSPC  \\\n",
       "0  5409    7322   43      190    0.640000                 0.95     0       2   \n",
       "1  5549    5534   43       71    0.511628                 0.85     0       2   \n",
       "2  5605    5345   31       53    0.857143                 0.95     0       4   \n",
       "3  6134    4991   29       20    0.828571                 0.90     0       4   \n",
       "4  6638    5825   50       72    0.752941                 0.92     0       3   \n",
       "\n",
       "   CPTC      ASSR  DL  PR       PCR  RRB  LABEL  LABEL_FOR_KMEANS  \n",
       "0     1  0.882609   1 NaN  0.631714  163     -1                 0  \n",
       "1     1  0.627778   1 NaN  0.631714  163     -1                 0  \n",
       "2     1  0.967105   1 NaN  0.565435  145      1                 0  \n",
       "3     1  0.775883   1 NaN  0.813397  188     -1                 1  \n",
       "4     1  0.932974   1 NaN  0.703248  169     -1                 0  "
      ]
     },
     "execution_count": 130,
     "metadata": {},
     "output_type": "execute_result"
    }
   ],
   "source": [
    "oj_data_copy.head()"
   ]
  },
  {
   "cell_type": "code",
   "execution_count": 128,
   "metadata": {},
   "outputs": [],
   "source": [
    "def change_label_for_copy(df):\n",
    "    for index, row in df.iterrows():\n",
    "        df.iloc[index, 15]=arr[index]"
   ]
  },
  {
   "cell_type": "code",
   "execution_count": 129,
   "metadata": {},
   "outputs": [],
   "source": [
    "change_label_for_copy(oj_data_copy)"
   ]
  },
  {
   "cell_type": "code",
   "execution_count": 131,
   "metadata": {},
   "outputs": [
    {
     "data": {
      "text/plain": [
       "0    11424\n",
       "1    11418\n",
       "Name: LABEL_FOR_KMEANS, dtype: int64"
      ]
     },
     "execution_count": 131,
     "metadata": {},
     "output_type": "execute_result"
    }
   ],
   "source": [
    "oj_data_copy['LABEL_FOR_KMEANS'].value_counts()"
   ]
  },
  {
   "cell_type": "code",
   "execution_count": 135,
   "metadata": {},
   "outputs": [],
   "source": [
    "oj_data_train=oj_data_copy[oj_data_copy['LABEL']==-1]\n",
    "oj_data_train.reset_index(drop=True, inplace=True)\n",
    "\n",
    "oj_data_test=oj_data_copy[oj_data_copy['LABEL']!=-1]\n",
    "oj_data_test.reset_index(drop=True, inplace=True)"
   ]
  },
  {
   "cell_type": "code",
   "execution_count": 141,
   "metadata": {},
   "outputs": [
    {
     "data": {
      "text/plain": [
       "0    11335\n",
       "1    11274\n",
       "Name: LABEL, dtype: int64"
      ]
     },
     "execution_count": 141,
     "metadata": {},
     "output_type": "execute_result"
    }
   ],
   "source": [
    "oj_data_train['LABEL'].value_counts()"
   ]
  },
  {
   "cell_type": "code",
   "execution_count": 143,
   "metadata": {},
   "outputs": [
    {
     "data": {
      "text/plain": [
       "0    128\n",
       "1    105\n",
       "Name: LABEL, dtype: int64"
      ]
     },
     "execution_count": 143,
     "metadata": {},
     "output_type": "execute_result"
    }
   ],
   "source": [
    "oj_data_test['LABEL'].value_counts()"
   ]
  },
  {
   "cell_type": "code",
   "execution_count": 138,
   "metadata": {},
   "outputs": [],
   "source": [
    "def change_label_for_train(row):\n",
    "    if row['LABEL_FOR_KMEANS']==0:\n",
    "        return 1\n",
    "    else:\n",
    "        return 0"
   ]
  },
  {
   "cell_type": "code",
   "execution_count": 139,
   "metadata": {},
   "outputs": [
    {
     "name": "stderr",
     "output_type": "stream",
     "text": [
      "D:\\Anaconda\\Anaconda3\\lib\\site-packages\\ipykernel_launcher.py:1: SettingWithCopyWarning: \n",
      "A value is trying to be set on a copy of a slice from a DataFrame.\n",
      "Try using .loc[row_indexer,col_indexer] = value instead\n",
      "\n",
      "See the caveats in the documentation: http://pandas.pydata.org/pandas-docs/stable/indexing.html#indexing-view-versus-copy\n",
      "  \"\"\"Entry point for launching an IPython kernel.\n"
     ]
    }
   ],
   "source": [
    "oj_data_train['LABEL']=oj_data_train.apply(func=change_label_for_train, axis=1)"
   ]
  },
  {
   "cell_type": "code",
   "execution_count": 140,
   "metadata": {},
   "outputs": [
    {
     "data": {
      "text/html": [
       "<div>\n",
       "<style scoped>\n",
       "    .dataframe tbody tr th:only-of-type {\n",
       "        vertical-align: middle;\n",
       "    }\n",
       "\n",
       "    .dataframe tbody tr th {\n",
       "        vertical-align: top;\n",
       "    }\n",
       "\n",
       "    .dataframe thead th {\n",
       "        text-align: right;\n",
       "    }\n",
       "</style>\n",
       "<table border=\"1\" class=\"dataframe\">\n",
       "  <thead>\n",
       "    <tr style=\"text-align: right;\">\n",
       "      <th></th>\n",
       "      <th>sid</th>\n",
       "      <th>sim_id</th>\n",
       "      <th>uid</th>\n",
       "      <th>sim_uid</th>\n",
       "      <th>similarity</th>\n",
       "      <th>similarityThreshold</th>\n",
       "      <th>CPMS</th>\n",
       "      <th>CPMSPC</th>\n",
       "      <th>CPTC</th>\n",
       "      <th>ASSR</th>\n",
       "      <th>DL</th>\n",
       "      <th>PR</th>\n",
       "      <th>PCR</th>\n",
       "      <th>RRB</th>\n",
       "      <th>LABEL</th>\n",
       "      <th>LABEL_FOR_KMEANS</th>\n",
       "    </tr>\n",
       "  </thead>\n",
       "  <tbody>\n",
       "    <tr>\n",
       "      <th>0</th>\n",
       "      <td>5409</td>\n",
       "      <td>7322</td>\n",
       "      <td>43</td>\n",
       "      <td>190</td>\n",
       "      <td>0.640000</td>\n",
       "      <td>0.95</td>\n",
       "      <td>0</td>\n",
       "      <td>2</td>\n",
       "      <td>1</td>\n",
       "      <td>0.882609</td>\n",
       "      <td>1</td>\n",
       "      <td>NaN</td>\n",
       "      <td>0.631714</td>\n",
       "      <td>163</td>\n",
       "      <td>1</td>\n",
       "      <td>0</td>\n",
       "    </tr>\n",
       "    <tr>\n",
       "      <th>1</th>\n",
       "      <td>5549</td>\n",
       "      <td>5534</td>\n",
       "      <td>43</td>\n",
       "      <td>71</td>\n",
       "      <td>0.511628</td>\n",
       "      <td>0.85</td>\n",
       "      <td>0</td>\n",
       "      <td>2</td>\n",
       "      <td>1</td>\n",
       "      <td>0.627778</td>\n",
       "      <td>1</td>\n",
       "      <td>NaN</td>\n",
       "      <td>0.631714</td>\n",
       "      <td>163</td>\n",
       "      <td>1</td>\n",
       "      <td>0</td>\n",
       "    </tr>\n",
       "    <tr>\n",
       "      <th>2</th>\n",
       "      <td>6134</td>\n",
       "      <td>4991</td>\n",
       "      <td>29</td>\n",
       "      <td>20</td>\n",
       "      <td>0.828571</td>\n",
       "      <td>0.90</td>\n",
       "      <td>0</td>\n",
       "      <td>4</td>\n",
       "      <td>1</td>\n",
       "      <td>0.775883</td>\n",
       "      <td>1</td>\n",
       "      <td>NaN</td>\n",
       "      <td>0.813397</td>\n",
       "      <td>188</td>\n",
       "      <td>0</td>\n",
       "      <td>1</td>\n",
       "    </tr>\n",
       "    <tr>\n",
       "      <th>3</th>\n",
       "      <td>6638</td>\n",
       "      <td>5825</td>\n",
       "      <td>50</td>\n",
       "      <td>72</td>\n",
       "      <td>0.752941</td>\n",
       "      <td>0.92</td>\n",
       "      <td>0</td>\n",
       "      <td>3</td>\n",
       "      <td>1</td>\n",
       "      <td>0.932974</td>\n",
       "      <td>1</td>\n",
       "      <td>NaN</td>\n",
       "      <td>0.703248</td>\n",
       "      <td>169</td>\n",
       "      <td>1</td>\n",
       "      <td>0</td>\n",
       "    </tr>\n",
       "    <tr>\n",
       "      <th>4</th>\n",
       "      <td>6915</td>\n",
       "      <td>6597</td>\n",
       "      <td>28</td>\n",
       "      <td>24</td>\n",
       "      <td>0.784314</td>\n",
       "      <td>0.92</td>\n",
       "      <td>0</td>\n",
       "      <td>3</td>\n",
       "      <td>1</td>\n",
       "      <td>0.888374</td>\n",
       "      <td>1</td>\n",
       "      <td>NaN</td>\n",
       "      <td>0.586463</td>\n",
       "      <td>128</td>\n",
       "      <td>1</td>\n",
       "      <td>0</td>\n",
       "    </tr>\n",
       "  </tbody>\n",
       "</table>\n",
       "</div>"
      ],
      "text/plain": [
       "    sid  sim_id  uid  sim_uid  similarity  similarityThreshold  CPMS  CPMSPC  \\\n",
       "0  5409    7322   43      190    0.640000                 0.95     0       2   \n",
       "1  5549    5534   43       71    0.511628                 0.85     0       2   \n",
       "2  6134    4991   29       20    0.828571                 0.90     0       4   \n",
       "3  6638    5825   50       72    0.752941                 0.92     0       3   \n",
       "4  6915    6597   28       24    0.784314                 0.92     0       3   \n",
       "\n",
       "   CPTC      ASSR  DL  PR       PCR  RRB  LABEL  LABEL_FOR_KMEANS  \n",
       "0     1  0.882609   1 NaN  0.631714  163      1                 0  \n",
       "1     1  0.627778   1 NaN  0.631714  163      1                 0  \n",
       "2     1  0.775883   1 NaN  0.813397  188      0                 1  \n",
       "3     1  0.932974   1 NaN  0.703248  169      1                 0  \n",
       "4     1  0.888374   1 NaN  0.586463  128      1                 0  "
      ]
     },
     "execution_count": 140,
     "metadata": {},
     "output_type": "execute_result"
    }
   ],
   "source": [
    "oj_data_train.head()"
   ]
  },
  {
   "cell_type": "code",
   "execution_count": 142,
   "metadata": {},
   "outputs": [
    {
     "data": {
      "text/html": [
       "<div>\n",
       "<style scoped>\n",
       "    .dataframe tbody tr th:only-of-type {\n",
       "        vertical-align: middle;\n",
       "    }\n",
       "\n",
       "    .dataframe tbody tr th {\n",
       "        vertical-align: top;\n",
       "    }\n",
       "\n",
       "    .dataframe thead th {\n",
       "        text-align: right;\n",
       "    }\n",
       "</style>\n",
       "<table border=\"1\" class=\"dataframe\">\n",
       "  <thead>\n",
       "    <tr style=\"text-align: right;\">\n",
       "      <th></th>\n",
       "      <th>sid</th>\n",
       "      <th>sim_id</th>\n",
       "      <th>uid</th>\n",
       "      <th>sim_uid</th>\n",
       "      <th>similarity</th>\n",
       "      <th>similarityThreshold</th>\n",
       "      <th>CPMS</th>\n",
       "      <th>CPMSPC</th>\n",
       "      <th>CPTC</th>\n",
       "      <th>ASSR</th>\n",
       "      <th>DL</th>\n",
       "      <th>PR</th>\n",
       "      <th>PCR</th>\n",
       "      <th>RRB</th>\n",
       "      <th>LABEL</th>\n",
       "      <th>LABEL_FOR_KMEANS</th>\n",
       "    </tr>\n",
       "  </thead>\n",
       "  <tbody>\n",
       "    <tr>\n",
       "      <th>0</th>\n",
       "      <td>5605</td>\n",
       "      <td>5345</td>\n",
       "      <td>31</td>\n",
       "      <td>53</td>\n",
       "      <td>0.857143</td>\n",
       "      <td>0.95</td>\n",
       "      <td>0</td>\n",
       "      <td>4</td>\n",
       "      <td>1</td>\n",
       "      <td>0.967105</td>\n",
       "      <td>1</td>\n",
       "      <td>NaN</td>\n",
       "      <td>0.565435</td>\n",
       "      <td>145</td>\n",
       "      <td>1</td>\n",
       "      <td>0</td>\n",
       "    </tr>\n",
       "    <tr>\n",
       "      <th>1</th>\n",
       "      <td>9135</td>\n",
       "      <td>8117</td>\n",
       "      <td>171</td>\n",
       "      <td>173</td>\n",
       "      <td>0.937500</td>\n",
       "      <td>0.98</td>\n",
       "      <td>0</td>\n",
       "      <td>4</td>\n",
       "      <td>1</td>\n",
       "      <td>0.908564</td>\n",
       "      <td>1</td>\n",
       "      <td>NaN</td>\n",
       "      <td>0.780564</td>\n",
       "      <td>22</td>\n",
       "      <td>0</td>\n",
       "      <td>0</td>\n",
       "    </tr>\n",
       "    <tr>\n",
       "      <th>2</th>\n",
       "      <td>9149</td>\n",
       "      <td>8117</td>\n",
       "      <td>171</td>\n",
       "      <td>173</td>\n",
       "      <td>0.937500</td>\n",
       "      <td>0.98</td>\n",
       "      <td>0</td>\n",
       "      <td>4</td>\n",
       "      <td>1</td>\n",
       "      <td>0.908564</td>\n",
       "      <td>1</td>\n",
       "      <td>NaN</td>\n",
       "      <td>0.780564</td>\n",
       "      <td>22</td>\n",
       "      <td>0</td>\n",
       "      <td>0</td>\n",
       "    </tr>\n",
       "    <tr>\n",
       "      <th>3</th>\n",
       "      <td>9163</td>\n",
       "      <td>8854</td>\n",
       "      <td>172</td>\n",
       "      <td>152</td>\n",
       "      <td>0.852459</td>\n",
       "      <td>0.99</td>\n",
       "      <td>0</td>\n",
       "      <td>3</td>\n",
       "      <td>1</td>\n",
       "      <td>0.920738</td>\n",
       "      <td>1</td>\n",
       "      <td>NaN</td>\n",
       "      <td>0.618727</td>\n",
       "      <td>36</td>\n",
       "      <td>0</td>\n",
       "      <td>0</td>\n",
       "    </tr>\n",
       "    <tr>\n",
       "      <th>4</th>\n",
       "      <td>9252</td>\n",
       "      <td>8662</td>\n",
       "      <td>178</td>\n",
       "      <td>184</td>\n",
       "      <td>0.808511</td>\n",
       "      <td>0.99</td>\n",
       "      <td>0</td>\n",
       "      <td>3</td>\n",
       "      <td>1</td>\n",
       "      <td>0.861854</td>\n",
       "      <td>1</td>\n",
       "      <td>NaN</td>\n",
       "      <td>0.691346</td>\n",
       "      <td>77</td>\n",
       "      <td>1</td>\n",
       "      <td>0</td>\n",
       "    </tr>\n",
       "  </tbody>\n",
       "</table>\n",
       "</div>"
      ],
      "text/plain": [
       "    sid  sim_id  uid  sim_uid  similarity  similarityThreshold  CPMS  CPMSPC  \\\n",
       "0  5605    5345   31       53    0.857143                 0.95     0       4   \n",
       "1  9135    8117  171      173    0.937500                 0.98     0       4   \n",
       "2  9149    8117  171      173    0.937500                 0.98     0       4   \n",
       "3  9163    8854  172      152    0.852459                 0.99     0       3   \n",
       "4  9252    8662  178      184    0.808511                 0.99     0       3   \n",
       "\n",
       "   CPTC      ASSR  DL  PR       PCR  RRB  LABEL  LABEL_FOR_KMEANS  \n",
       "0     1  0.967105   1 NaN  0.565435  145      1                 0  \n",
       "1     1  0.908564   1 NaN  0.780564   22      0                 0  \n",
       "2     1  0.908564   1 NaN  0.780564   22      0                 0  \n",
       "3     1  0.920738   1 NaN  0.618727   36      0                 0  \n",
       "4     1  0.861854   1 NaN  0.691346   77      1                 0  "
      ]
     },
     "execution_count": 142,
     "metadata": {},
     "output_type": "execute_result"
    }
   ],
   "source": [
    "oj_data_test.head()"
   ]
  },
  {
   "cell_type": "code",
   "execution_count": 154,
   "metadata": {},
   "outputs": [],
   "source": [
    "test_data_temp=oj_data_train.sample(n=950,random_state=123)\n",
    "train_data_temp=oj_data_train[~oj_data_train.index.isin(test_data_temp.index)]"
   ]
  },
  {
   "cell_type": "code",
   "execution_count": 157,
   "metadata": {},
   "outputs": [
    {
     "name": "stdout",
     "output_type": "stream",
     "text": [
      "(950, 16)\n"
     ]
    },
    {
     "data": {
      "text/plain": [
       "(21659, 16)"
      ]
     },
     "execution_count": 157,
     "metadata": {},
     "output_type": "execute_result"
    }
   ],
   "source": [
    "print(test_data_temp.shape)\n",
    "train_data_temp.shape"
   ]
  },
  {
   "cell_type": "code",
   "execution_count": 158,
   "metadata": {},
   "outputs": [],
   "source": [
    "test_data_temp1=oj_data_test.sample(n=50,random_state=12)\n",
    "train_data_temp1=oj_data_test[~oj_data_test.index.isin(test_data_temp1.index)]"
   ]
  },
  {
   "cell_type": "code",
   "execution_count": 159,
   "metadata": {},
   "outputs": [
    {
     "name": "stdout",
     "output_type": "stream",
     "text": [
      "(50, 16)\n"
     ]
    },
    {
     "data": {
      "text/plain": [
       "(183, 16)"
      ]
     },
     "execution_count": 159,
     "metadata": {},
     "output_type": "execute_result"
    }
   ],
   "source": [
    "print(test_data_temp1.shape)\n",
    "train_data_temp1.shape"
   ]
  },
  {
   "cell_type": "code",
   "execution_count": 160,
   "metadata": {},
   "outputs": [
    {
     "data": {
      "text/plain": [
       "(1000, 16)"
      ]
     },
     "execution_count": 160,
     "metadata": {},
     "output_type": "execute_result"
    }
   ],
   "source": [
    "oj_data_test = pd.concat( [test_data_temp, test_data_temp1], axis=0 )\n",
    "oj_data_test.shape"
   ]
  },
  {
   "cell_type": "code",
   "execution_count": 161,
   "metadata": {},
   "outputs": [
    {
     "data": {
      "text/plain": [
       "(21842, 16)"
      ]
     },
     "execution_count": 161,
     "metadata": {},
     "output_type": "execute_result"
    }
   ],
   "source": [
    "oj_data_train = pd.concat( [train_data_temp, train_data_temp1], axis=0 )\n",
    "oj_data_train.shape"
   ]
  },
  {
   "cell_type": "code",
   "execution_count": 215,
   "metadata": {},
   "outputs": [
    {
     "data": {
      "text/html": [
       "<div>\n",
       "<style scoped>\n",
       "    .dataframe tbody tr th:only-of-type {\n",
       "        vertical-align: middle;\n",
       "    }\n",
       "\n",
       "    .dataframe tbody tr th {\n",
       "        vertical-align: top;\n",
       "    }\n",
       "\n",
       "    .dataframe thead th {\n",
       "        text-align: right;\n",
       "    }\n",
       "</style>\n",
       "<table border=\"1\" class=\"dataframe\">\n",
       "  <thead>\n",
       "    <tr style=\"text-align: right;\">\n",
       "      <th></th>\n",
       "      <th>sid</th>\n",
       "      <th>sim_id</th>\n",
       "      <th>uid</th>\n",
       "      <th>sim_uid</th>\n",
       "      <th>similarity</th>\n",
       "      <th>similarityThreshold</th>\n",
       "      <th>CPMS</th>\n",
       "      <th>CPMSPC</th>\n",
       "      <th>CPTC</th>\n",
       "      <th>ASSR</th>\n",
       "      <th>DL</th>\n",
       "      <th>PR</th>\n",
       "      <th>PCR</th>\n",
       "      <th>RRB</th>\n",
       "      <th>LABEL</th>\n",
       "      <th>LABEL_FOR_KMEANS</th>\n",
       "    </tr>\n",
       "  </thead>\n",
       "  <tbody>\n",
       "    <tr>\n",
       "      <th>63</th>\n",
       "      <td>14835</td>\n",
       "      <td>14798</td>\n",
       "      <td>149</td>\n",
       "      <td>160</td>\n",
       "      <td>0.913580</td>\n",
       "      <td>0.94</td>\n",
       "      <td>0</td>\n",
       "      <td>4</td>\n",
       "      <td>1</td>\n",
       "      <td>0.959716</td>\n",
       "      <td>1</td>\n",
       "      <td>NaN</td>\n",
       "      <td>0.423898</td>\n",
       "      <td>142</td>\n",
       "      <td>0</td>\n",
       "      <td>0</td>\n",
       "    </tr>\n",
       "    <tr>\n",
       "      <th>167</th>\n",
       "      <td>36672</td>\n",
       "      <td>36537</td>\n",
       "      <td>164</td>\n",
       "      <td>124</td>\n",
       "      <td>0.921409</td>\n",
       "      <td>0.95</td>\n",
       "      <td>0</td>\n",
       "      <td>4</td>\n",
       "      <td>1</td>\n",
       "      <td>0.977932</td>\n",
       "      <td>1</td>\n",
       "      <td>NaN</td>\n",
       "      <td>0.565517</td>\n",
       "      <td>201</td>\n",
       "      <td>0</td>\n",
       "      <td>1</td>\n",
       "    </tr>\n",
       "    <tr>\n",
       "      <th>127</th>\n",
       "      <td>22520</td>\n",
       "      <td>21636</td>\n",
       "      <td>137</td>\n",
       "      <td>121</td>\n",
       "      <td>0.875000</td>\n",
       "      <td>0.98</td>\n",
       "      <td>0</td>\n",
       "      <td>3</td>\n",
       "      <td>1</td>\n",
       "      <td>0.945122</td>\n",
       "      <td>1</td>\n",
       "      <td>NaN</td>\n",
       "      <td>0.355918</td>\n",
       "      <td>17</td>\n",
       "      <td>1</td>\n",
       "      <td>0</td>\n",
       "    </tr>\n",
       "    <tr>\n",
       "      <th>198</th>\n",
       "      <td>51984</td>\n",
       "      <td>47405</td>\n",
       "      <td>1037</td>\n",
       "      <td>1012</td>\n",
       "      <td>0.903226</td>\n",
       "      <td>0.97</td>\n",
       "      <td>0</td>\n",
       "      <td>4</td>\n",
       "      <td>1</td>\n",
       "      <td>0.955172</td>\n",
       "      <td>1</td>\n",
       "      <td>NaN</td>\n",
       "      <td>0.422626</td>\n",
       "      <td>237</td>\n",
       "      <td>1</td>\n",
       "      <td>1</td>\n",
       "    </tr>\n",
       "    <tr>\n",
       "      <th>16</th>\n",
       "      <td>9613</td>\n",
       "      <td>9451</td>\n",
       "      <td>96</td>\n",
       "      <td>97</td>\n",
       "      <td>0.758621</td>\n",
       "      <td>0.96</td>\n",
       "      <td>0</td>\n",
       "      <td>3</td>\n",
       "      <td>1</td>\n",
       "      <td>0.927673</td>\n",
       "      <td>1</td>\n",
       "      <td>NaN</td>\n",
       "      <td>0.533333</td>\n",
       "      <td>327</td>\n",
       "      <td>0</td>\n",
       "      <td>1</td>\n",
       "    </tr>\n",
       "    <tr>\n",
       "      <th>210</th>\n",
       "      <td>52788</td>\n",
       "      <td>48471</td>\n",
       "      <td>1031</td>\n",
       "      <td>1015</td>\n",
       "      <td>0.903226</td>\n",
       "      <td>0.97</td>\n",
       "      <td>0</td>\n",
       "      <td>4</td>\n",
       "      <td>1</td>\n",
       "      <td>0.986339</td>\n",
       "      <td>1</td>\n",
       "      <td>NaN</td>\n",
       "      <td>0.479059</td>\n",
       "      <td>283</td>\n",
       "      <td>0</td>\n",
       "      <td>1</td>\n",
       "    </tr>\n",
       "    <tr>\n",
       "      <th>36</th>\n",
       "      <td>10926</td>\n",
       "      <td>10157</td>\n",
       "      <td>137</td>\n",
       "      <td>121</td>\n",
       "      <td>0.800000</td>\n",
       "      <td>0.95</td>\n",
       "      <td>0</td>\n",
       "      <td>3</td>\n",
       "      <td>1</td>\n",
       "      <td>0.843944</td>\n",
       "      <td>2</td>\n",
       "      <td>NaN</td>\n",
       "      <td>0.355918</td>\n",
       "      <td>17</td>\n",
       "      <td>1</td>\n",
       "      <td>0</td>\n",
       "    </tr>\n",
       "    <tr>\n",
       "      <th>1</th>\n",
       "      <td>9135</td>\n",
       "      <td>8117</td>\n",
       "      <td>171</td>\n",
       "      <td>173</td>\n",
       "      <td>0.937500</td>\n",
       "      <td>0.98</td>\n",
       "      <td>0</td>\n",
       "      <td>4</td>\n",
       "      <td>1</td>\n",
       "      <td>0.908564</td>\n",
       "      <td>1</td>\n",
       "      <td>NaN</td>\n",
       "      <td>0.780564</td>\n",
       "      <td>22</td>\n",
       "      <td>0</td>\n",
       "      <td>0</td>\n",
       "    </tr>\n",
       "    <tr>\n",
       "      <th>106</th>\n",
       "      <td>21548</td>\n",
       "      <td>20837</td>\n",
       "      <td>129</td>\n",
       "      <td>128</td>\n",
       "      <td>0.782609</td>\n",
       "      <td>0.98</td>\n",
       "      <td>0</td>\n",
       "      <td>3</td>\n",
       "      <td>1</td>\n",
       "      <td>0.957317</td>\n",
       "      <td>1</td>\n",
       "      <td>NaN</td>\n",
       "      <td>0.674339</td>\n",
       "      <td>5</td>\n",
       "      <td>1</td>\n",
       "      <td>0</td>\n",
       "    </tr>\n",
       "    <tr>\n",
       "      <th>41</th>\n",
       "      <td>11127</td>\n",
       "      <td>5844</td>\n",
       "      <td>22</td>\n",
       "      <td>61</td>\n",
       "      <td>0.805556</td>\n",
       "      <td>0.95</td>\n",
       "      <td>0</td>\n",
       "      <td>3</td>\n",
       "      <td>1</td>\n",
       "      <td>0.845276</td>\n",
       "      <td>1</td>\n",
       "      <td>NaN</td>\n",
       "      <td>0.574020</td>\n",
       "      <td>97</td>\n",
       "      <td>0</td>\n",
       "      <td>0</td>\n",
       "    </tr>\n",
       "  </tbody>\n",
       "</table>\n",
       "</div>"
      ],
      "text/plain": [
       "       sid  sim_id   uid  sim_uid  similarity  similarityThreshold  CPMS  \\\n",
       "63   14835   14798   149      160    0.913580                 0.94     0   \n",
       "167  36672   36537   164      124    0.921409                 0.95     0   \n",
       "127  22520   21636   137      121    0.875000                 0.98     0   \n",
       "198  51984   47405  1037     1012    0.903226                 0.97     0   \n",
       "16    9613    9451    96       97    0.758621                 0.96     0   \n",
       "210  52788   48471  1031     1015    0.903226                 0.97     0   \n",
       "36   10926   10157   137      121    0.800000                 0.95     0   \n",
       "1     9135    8117   171      173    0.937500                 0.98     0   \n",
       "106  21548   20837   129      128    0.782609                 0.98     0   \n",
       "41   11127    5844    22       61    0.805556                 0.95     0   \n",
       "\n",
       "     CPMSPC  CPTC      ASSR  DL  PR       PCR  RRB  LABEL  LABEL_FOR_KMEANS  \n",
       "63        4     1  0.959716   1 NaN  0.423898  142      0                 0  \n",
       "167       4     1  0.977932   1 NaN  0.565517  201      0                 1  \n",
       "127       3     1  0.945122   1 NaN  0.355918   17      1                 0  \n",
       "198       4     1  0.955172   1 NaN  0.422626  237      1                 1  \n",
       "16        3     1  0.927673   1 NaN  0.533333  327      0                 1  \n",
       "210       4     1  0.986339   1 NaN  0.479059  283      0                 1  \n",
       "36        3     1  0.843944   2 NaN  0.355918   17      1                 0  \n",
       "1         4     1  0.908564   1 NaN  0.780564   22      0                 0  \n",
       "106       3     1  0.957317   1 NaN  0.674339    5      1                 0  \n",
       "41        3     1  0.845276   1 NaN  0.574020   97      0                 0  "
      ]
     },
     "execution_count": 215,
     "metadata": {},
     "output_type": "execute_result"
    }
   ],
   "source": [
    "oj_data_test.tail(10)"
   ]
  },
  {
   "cell_type": "code",
   "execution_count": 164,
   "metadata": {},
   "outputs": [],
   "source": [
    "oj_data_temp=pd.concat( [oj_data_train, oj_data_test], axis=0 )"
   ]
  },
  {
   "cell_type": "code",
   "execution_count": 169,
   "metadata": {},
   "outputs": [
    {
     "data": {
      "text/plain": [
       "(22842, 15)"
      ]
     },
     "execution_count": 169,
     "metadata": {},
     "output_type": "execute_result"
    }
   ],
   "source": [
    "oj_data_temp=oj_data_temp.drop(['LABEL_FOR_KMEANS'], axis=1)\n",
    "oj_data_temp.shape"
   ]
  },
  {
   "cell_type": "code",
   "execution_count": 170,
   "metadata": {},
   "outputs": [
    {
     "data": {
      "text/html": [
       "<div>\n",
       "<style scoped>\n",
       "    .dataframe tbody tr th:only-of-type {\n",
       "        vertical-align: middle;\n",
       "    }\n",
       "\n",
       "    .dataframe tbody tr th {\n",
       "        vertical-align: top;\n",
       "    }\n",
       "\n",
       "    .dataframe thead th {\n",
       "        text-align: right;\n",
       "    }\n",
       "</style>\n",
       "<table border=\"1\" class=\"dataframe\">\n",
       "  <thead>\n",
       "    <tr style=\"text-align: right;\">\n",
       "      <th></th>\n",
       "      <th>sid</th>\n",
       "      <th>sim_id</th>\n",
       "      <th>uid</th>\n",
       "      <th>sim_uid</th>\n",
       "      <th>similarity</th>\n",
       "      <th>similarityThreshold</th>\n",
       "      <th>CPMS</th>\n",
       "      <th>CPMSPC</th>\n",
       "      <th>CPTC</th>\n",
       "      <th>ASSR</th>\n",
       "      <th>DL</th>\n",
       "      <th>PR</th>\n",
       "      <th>PCR</th>\n",
       "      <th>RRB</th>\n",
       "      <th>LABEL</th>\n",
       "    </tr>\n",
       "  </thead>\n",
       "  <tbody>\n",
       "    <tr>\n",
       "      <th>0</th>\n",
       "      <td>5409</td>\n",
       "      <td>7322</td>\n",
       "      <td>43</td>\n",
       "      <td>190</td>\n",
       "      <td>0.640000</td>\n",
       "      <td>0.95</td>\n",
       "      <td>0</td>\n",
       "      <td>2</td>\n",
       "      <td>1</td>\n",
       "      <td>0.882609</td>\n",
       "      <td>1</td>\n",
       "      <td>NaN</td>\n",
       "      <td>0.631714</td>\n",
       "      <td>163</td>\n",
       "      <td>1</td>\n",
       "    </tr>\n",
       "    <tr>\n",
       "      <th>1</th>\n",
       "      <td>5549</td>\n",
       "      <td>5534</td>\n",
       "      <td>43</td>\n",
       "      <td>71</td>\n",
       "      <td>0.511628</td>\n",
       "      <td>0.85</td>\n",
       "      <td>0</td>\n",
       "      <td>2</td>\n",
       "      <td>1</td>\n",
       "      <td>0.627778</td>\n",
       "      <td>1</td>\n",
       "      <td>NaN</td>\n",
       "      <td>0.631714</td>\n",
       "      <td>163</td>\n",
       "      <td>1</td>\n",
       "    </tr>\n",
       "    <tr>\n",
       "      <th>2</th>\n",
       "      <td>6134</td>\n",
       "      <td>4991</td>\n",
       "      <td>29</td>\n",
       "      <td>20</td>\n",
       "      <td>0.828571</td>\n",
       "      <td>0.90</td>\n",
       "      <td>0</td>\n",
       "      <td>4</td>\n",
       "      <td>1</td>\n",
       "      <td>0.775883</td>\n",
       "      <td>1</td>\n",
       "      <td>NaN</td>\n",
       "      <td>0.813397</td>\n",
       "      <td>188</td>\n",
       "      <td>0</td>\n",
       "    </tr>\n",
       "    <tr>\n",
       "      <th>3</th>\n",
       "      <td>6638</td>\n",
       "      <td>5825</td>\n",
       "      <td>50</td>\n",
       "      <td>72</td>\n",
       "      <td>0.752941</td>\n",
       "      <td>0.92</td>\n",
       "      <td>0</td>\n",
       "      <td>3</td>\n",
       "      <td>1</td>\n",
       "      <td>0.932974</td>\n",
       "      <td>1</td>\n",
       "      <td>NaN</td>\n",
       "      <td>0.703248</td>\n",
       "      <td>169</td>\n",
       "      <td>1</td>\n",
       "    </tr>\n",
       "    <tr>\n",
       "      <th>4</th>\n",
       "      <td>6915</td>\n",
       "      <td>6597</td>\n",
       "      <td>28</td>\n",
       "      <td>24</td>\n",
       "      <td>0.784314</td>\n",
       "      <td>0.92</td>\n",
       "      <td>0</td>\n",
       "      <td>3</td>\n",
       "      <td>1</td>\n",
       "      <td>0.888374</td>\n",
       "      <td>1</td>\n",
       "      <td>NaN</td>\n",
       "      <td>0.586463</td>\n",
       "      <td>128</td>\n",
       "      <td>1</td>\n",
       "    </tr>\n",
       "  </tbody>\n",
       "</table>\n",
       "</div>"
      ],
      "text/plain": [
       "    sid  sim_id  uid  sim_uid  similarity  similarityThreshold  CPMS  CPMSPC  \\\n",
       "0  5409    7322   43      190    0.640000                 0.95     0       2   \n",
       "1  5549    5534   43       71    0.511628                 0.85     0       2   \n",
       "2  6134    4991   29       20    0.828571                 0.90     0       4   \n",
       "3  6638    5825   50       72    0.752941                 0.92     0       3   \n",
       "4  6915    6597   28       24    0.784314                 0.92     0       3   \n",
       "\n",
       "   CPTC      ASSR  DL  PR       PCR  RRB  LABEL  \n",
       "0     1  0.882609   1 NaN  0.631714  163      1  \n",
       "1     1  0.627778   1 NaN  0.631714  163      1  \n",
       "2     1  0.775883   1 NaN  0.813397  188      0  \n",
       "3     1  0.932974   1 NaN  0.703248  169      1  \n",
       "4     1  0.888374   1 NaN  0.586463  128      1  "
      ]
     },
     "execution_count": 170,
     "metadata": {},
     "output_type": "execute_result"
    }
   ],
   "source": [
    "oj_data_temp.head()"
   ]
  },
  {
   "cell_type": "code",
   "execution_count": 173,
   "metadata": {},
   "outputs": [
    {
     "data": {
      "text/plain": [
       "0    11463\n",
       "1    11379\n",
       "Name: LABEL, dtype: int64"
      ]
     },
     "execution_count": 173,
     "metadata": {},
     "output_type": "execute_result"
    }
   ],
   "source": [
    "oj_data_temp['LABEL'].value_counts()"
   ]
  },
  {
   "cell_type": "code",
   "execution_count": 177,
   "metadata": {},
   "outputs": [],
   "source": [
    "# 查询用户排名数据\n",
    "data_user_rank = get_data(\"\"\"select userid, SUM(score) as allscore from solution where similarity>0 GROUP BY userid\"\"\")\n",
    "data_user_rank.columns = ['uid', 'total_score']"
   ]
  },
  {
   "cell_type": "code",
   "execution_count": 178,
   "metadata": {},
   "outputs": [
    {
     "name": "stdout",
     "output_type": "stream",
     "text": [
      "(481, 2)\n"
     ]
    },
    {
     "data": {
      "text/html": [
       "<div>\n",
       "<style scoped>\n",
       "    .dataframe tbody tr th:only-of-type {\n",
       "        vertical-align: middle;\n",
       "    }\n",
       "\n",
       "    .dataframe tbody tr th {\n",
       "        vertical-align: top;\n",
       "    }\n",
       "\n",
       "    .dataframe thead th {\n",
       "        text-align: right;\n",
       "    }\n",
       "</style>\n",
       "<table border=\"1\" class=\"dataframe\">\n",
       "  <thead>\n",
       "    <tr style=\"text-align: right;\">\n",
       "      <th></th>\n",
       "      <th>uid</th>\n",
       "      <th>total_score</th>\n",
       "    </tr>\n",
       "  </thead>\n",
       "  <tbody>\n",
       "    <tr>\n",
       "      <th>0</th>\n",
       "      <td>1</td>\n",
       "      <td>208.65</td>\n",
       "    </tr>\n",
       "    <tr>\n",
       "      <th>1</th>\n",
       "      <td>17</td>\n",
       "      <td>200.24</td>\n",
       "    </tr>\n",
       "    <tr>\n",
       "      <th>2</th>\n",
       "      <td>18</td>\n",
       "      <td>2.94</td>\n",
       "    </tr>\n",
       "    <tr>\n",
       "      <th>3</th>\n",
       "      <td>19</td>\n",
       "      <td>34.50</td>\n",
       "    </tr>\n",
       "    <tr>\n",
       "      <th>4</th>\n",
       "      <td>20</td>\n",
       "      <td>231.78</td>\n",
       "    </tr>\n",
       "  </tbody>\n",
       "</table>\n",
       "</div>"
      ],
      "text/plain": [
       "   uid  total_score\n",
       "0    1       208.65\n",
       "1   17       200.24\n",
       "2   18         2.94\n",
       "3   19        34.50\n",
       "4   20       231.78"
      ]
     },
     "execution_count": 178,
     "metadata": {},
     "output_type": "execute_result"
    }
   ],
   "source": [
    "print(data_user_rank.shape)\n",
    "data_user_rank.head()"
   ]
  },
  {
   "cell_type": "code",
   "execution_count": 185,
   "metadata": {},
   "outputs": [],
   "source": [
    "data_user_rank.drop(['total_score'], axis=1, inplace=True)\n",
    "data_user_rank['PR']=-1"
   ]
  },
  {
   "cell_type": "code",
   "execution_count": 205,
   "metadata": {},
   "outputs": [
    {
     "data": {
      "text/html": [
       "<div>\n",
       "<style scoped>\n",
       "    .dataframe tbody tr th:only-of-type {\n",
       "        vertical-align: middle;\n",
       "    }\n",
       "\n",
       "    .dataframe tbody tr th {\n",
       "        vertical-align: top;\n",
       "    }\n",
       "\n",
       "    .dataframe thead th {\n",
       "        text-align: right;\n",
       "    }\n",
       "</style>\n",
       "<table border=\"1\" class=\"dataframe\">\n",
       "  <thead>\n",
       "    <tr style=\"text-align: right;\">\n",
       "      <th></th>\n",
       "      <th>uid</th>\n",
       "      <th>PR</th>\n",
       "    </tr>\n",
       "  </thead>\n",
       "  <tbody>\n",
       "    <tr>\n",
       "      <th>0</th>\n",
       "      <td>1</td>\n",
       "      <td>0.0</td>\n",
       "    </tr>\n",
       "    <tr>\n",
       "      <th>1</th>\n",
       "      <td>17</td>\n",
       "      <td>0.0</td>\n",
       "    </tr>\n",
       "    <tr>\n",
       "      <th>2</th>\n",
       "      <td>18</td>\n",
       "      <td>0.0</td>\n",
       "    </tr>\n",
       "    <tr>\n",
       "      <th>3</th>\n",
       "      <td>19</td>\n",
       "      <td>0.0</td>\n",
       "    </tr>\n",
       "    <tr>\n",
       "      <th>4</th>\n",
       "      <td>20</td>\n",
       "      <td>0.0</td>\n",
       "    </tr>\n",
       "  </tbody>\n",
       "</table>\n",
       "</div>"
      ],
      "text/plain": [
       "   uid   PR\n",
       "0    1  0.0\n",
       "1   17  0.0\n",
       "2   18  0.0\n",
       "3   19  0.0\n",
       "4   20  0.0"
      ]
     },
     "execution_count": 205,
     "metadata": {},
     "output_type": "execute_result"
    }
   ],
   "source": [
    "data_user_rank.head()"
   ]
  },
  {
   "cell_type": "code",
   "execution_count": 210,
   "metadata": {},
   "outputs": [],
   "source": [
    "def cal_pr_for_user(row):\n",
    "#     count=len(oj_data_temp[np.logical_and(oj_data_temp['uid']==uid_value, oj_data_temp['LABEL']==1)])\n",
    "    temp=oj_data_temp[oj_data_temp['uid']==row['uid']]\n",
    "    total=len(temp)\n",
    "    count=len(temp[temp['LABEL']==1])\n",
    "    return count/total\n",
    "\n",
    "def change_df_to_dict(df):\n",
    "    dict_={}\n",
    "    for index, row in df.iterrows():\n",
    "        dict_[row['uid']]=row['PR']\n",
    "    return dict_\n",
    "\n",
    "def cal_pr_for_oj_data_temp(row):\n",
    "    return dict_[row['uid']]"
   ]
  },
  {
   "cell_type": "code",
   "execution_count": 202,
   "metadata": {},
   "outputs": [],
   "source": [
    "data_user_rank['PR']=data_user_rank.apply(func=cal_pr_for_user, axis=1)"
   ]
  },
  {
   "cell_type": "code",
   "execution_count": 207,
   "metadata": {},
   "outputs": [],
   "source": [
    "dict_=change_df_to_dict(data_user_rank)"
   ]
  },
  {
   "cell_type": "code",
   "execution_count": 208,
   "metadata": {},
   "outputs": [
    {
     "data": {
      "text/plain": [
       "{1.0: 0.0,\n",
       " 17.0: 0.0,\n",
       " 18.0: 0.0,\n",
       " 19.0: 0.0,\n",
       " 20.0: 0.0,\n",
       " 21.0: 0.0,\n",
       " 22.0: 0.9038461538461539,\n",
       " 23.0: 1.0,\n",
       " 24.0: 0.0,\n",
       " 25.0: 0.05,\n",
       " 26.0: 0.0,\n",
       " 27.0: 1.0,\n",
       " 28.0: 1.0,\n",
       " 29.0: 0.0,\n",
       " 30.0: 0.0,\n",
       " 31.0: 1.0,\n",
       " 32.0: 1.0,\n",
       " 33.0: 0.0,\n",
       " 34.0: 0.0,\n",
       " 35.0: 1.0,\n",
       " 36.0: 0.9746835443037974,\n",
       " 37.0: 1.0,\n",
       " 38.0: 1.0,\n",
       " 39.0: 0.0,\n",
       " 40.0: 1.0,\n",
       " 41.0: 0.961038961038961,\n",
       " 42.0: 1.0,\n",
       " 43.0: 1.0,\n",
       " 44.0: 0.0,\n",
       " 45.0: 1.0,\n",
       " 46.0: 0.0,\n",
       " 47.0: 1.0,\n",
       " 48.0: 0.9852941176470589,\n",
       " 49.0: 0.0,\n",
       " 50.0: 1.0,\n",
       " 51.0: 1.0,\n",
       " 52.0: 0.9897959183673469,\n",
       " 53.0: 1.0,\n",
       " 55.0: 1.0,\n",
       " 56.0: 0.0,\n",
       " 57.0: 1.0,\n",
       " 58.0: 1.0,\n",
       " 59.0: 1.0,\n",
       " 60.0: 0.0,\n",
       " 61.0: 1.0,\n",
       " 62.0: 0.9468085106382979,\n",
       " 63.0: 0.9859154929577465,\n",
       " 64.0: 1.0,\n",
       " 65.0: 1.0,\n",
       " 66.0: 1.0,\n",
       " 67.0: 1.0,\n",
       " 68.0: 0.0,\n",
       " 69.0: 1.0,\n",
       " 70.0: 0.0,\n",
       " 71.0: 1.0,\n",
       " 72.0: 1.0,\n",
       " 73.0: 1.0,\n",
       " 74.0: 1.0,\n",
       " 75.0: 0.0,\n",
       " 76.0: 1.0,\n",
       " 77.0: 1.0,\n",
       " 78.0: 1.0,\n",
       " 79.0: 0.0,\n",
       " 80.0: 0.0,\n",
       " 81.0: 1.0,\n",
       " 82.0: 0.9454545454545454,\n",
       " 84.0: 0.0,\n",
       " 85.0: 0.0,\n",
       " 86.0: 0.0,\n",
       " 87.0: 1.0,\n",
       " 88.0: 1.0,\n",
       " 89.0: 1.0,\n",
       " 90.0: 1.0,\n",
       " 91.0: 0.0,\n",
       " 92.0: 1.0,\n",
       " 93.0: 0.803921568627451,\n",
       " 94.0: 0.0,\n",
       " 95.0: 0.3333333333333333,\n",
       " 96.0: 0.0,\n",
       " 97.0: 0.8518518518518519,\n",
       " 98.0: 0.9772727272727273,\n",
       " 99.0: 0.96,\n",
       " 100.0: 0.034482758620689655,\n",
       " 101.0: 1.0,\n",
       " 102.0: 1.0,\n",
       " 103.0: 1.0,\n",
       " 104.0: 1.0,\n",
       " 105.0: 1.0,\n",
       " 106.0: 0.9672131147540983,\n",
       " 107.0: 0.0,\n",
       " 108.0: 0.967741935483871,\n",
       " 109.0: 1.0,\n",
       " 110.0: 0.0,\n",
       " 111.0: 1.0,\n",
       " 112.0: 1.0,\n",
       " 115.0: 1.0,\n",
       " 116.0: 1.0,\n",
       " 117.0: 1.0,\n",
       " 118.0: 0.9859154929577465,\n",
       " 119.0: 1.0,\n",
       " 120.0: 0.967741935483871,\n",
       " 121.0: 1.0,\n",
       " 122.0: 1.0,\n",
       " 123.0: 0.9642857142857143,\n",
       " 124.0: 0.0,\n",
       " 125.0: 1.0,\n",
       " 126.0: 1.0,\n",
       " 127.0: 1.0,\n",
       " 128.0: 0.9354838709677419,\n",
       " 129.0: 1.0,\n",
       " 130.0: 1.0,\n",
       " 131.0: 1.0,\n",
       " 132.0: 0.9819819819819819,\n",
       " 133.0: 0.2857142857142857,\n",
       " 134.0: 1.0,\n",
       " 135.0: 1.0,\n",
       " 136.0: 0.0,\n",
       " 137.0: 1.0,\n",
       " 139.0: 1.0,\n",
       " 140.0: 1.0,\n",
       " 141.0: 0.0,\n",
       " 143.0: 0.0,\n",
       " 144.0: 1.0,\n",
       " 145.0: 0.9444444444444444,\n",
       " 146.0: 0.9814814814814815,\n",
       " 147.0: 0.9838709677419355,\n",
       " 148.0: 0.0,\n",
       " 149.0: 0.9459459459459459,\n",
       " 150.0: 0.9857142857142858,\n",
       " 151.0: 0.024390243902439025,\n",
       " 152.0: 1.0,\n",
       " 153.0: 1.0,\n",
       " 154.0: 1.0,\n",
       " 155.0: 1.0,\n",
       " 156.0: 1.0,\n",
       " 157.0: 1.0,\n",
       " 158.0: 0.0,\n",
       " 159.0: 1.0,\n",
       " 160.0: 0.0,\n",
       " 161.0: 1.0,\n",
       " 162.0: 0.0,\n",
       " 163.0: 1.0,\n",
       " 164.0: 0.06896551724137931,\n",
       " 165.0: 0.9552238805970149,\n",
       " 166.0: 0.0,\n",
       " 167.0: 0.0,\n",
       " 168.0: 0.0,\n",
       " 169.0: 0.9545454545454546,\n",
       " 170.0: 0.9864864864864865,\n",
       " 171.0: 0.8850574712643678,\n",
       " 172.0: 0.9887640449438202,\n",
       " 173.0: 1.0,\n",
       " 174.0: 1.0,\n",
       " 175.0: 1.0,\n",
       " 176.0: 0.0,\n",
       " 177.0: 1.0,\n",
       " 178.0: 1.0,\n",
       " 179.0: 1.0,\n",
       " 180.0: 1.0,\n",
       " 181.0: 1.0,\n",
       " 182.0: 0.07142857142857142,\n",
       " 183.0: 0.0,\n",
       " 184.0: 1.0,\n",
       " 185.0: 0.9090909090909091,\n",
       " 186.0: 1.0,\n",
       " 187.0: 1.0,\n",
       " 188.0: 1.0,\n",
       " 189.0: 1.0,\n",
       " 190.0: 1.0,\n",
       " 191.0: 1.0,\n",
       " 192.0: 0.0,\n",
       " 193.0: 1.0,\n",
       " 195.0: 0.0,\n",
       " 196.0: 0.0,\n",
       " 197.0: 0.0,\n",
       " 198.0: 0.013157894736842105,\n",
       " 199.0: 0.0,\n",
       " 200.0: 0.0,\n",
       " 201.0: 0.0,\n",
       " 202.0: 0.0,\n",
       " 203.0: 1.0,\n",
       " 204.0: 1.0,\n",
       " 205.0: 0.0,\n",
       " 206.0: 0.0,\n",
       " 207.0: 0.03571428571428571,\n",
       " 208.0: 0.0,\n",
       " 209.0: 0.0,\n",
       " 210.0: 0.0,\n",
       " 211.0: 0.0,\n",
       " 212.0: 0.0,\n",
       " 213.0: 0.0,\n",
       " 214.0: 0.0,\n",
       " 215.0: 0.0,\n",
       " 216.0: 0.0,\n",
       " 217.0: 0.0,\n",
       " 218.0: 0.0,\n",
       " 219.0: 0.0,\n",
       " 220.0: 1.0,\n",
       " 221.0: 0.0,\n",
       " 222.0: 0.0,\n",
       " 223.0: 0.0,\n",
       " 227.0: 0.0,\n",
       " 230.0: 0.0,\n",
       " 231.0: 0.0,\n",
       " 236.0: 0.0,\n",
       " 237.0: 0.0,\n",
       " 238.0: 0.0,\n",
       " 241.0: 0.0,\n",
       " 244.0: 0.0,\n",
       " 245.0: 0.0,\n",
       " 246.0: 0.0,\n",
       " 248.0: 0.0,\n",
       " 250.0: 0.0,\n",
       " 251.0: 0.0,\n",
       " 252.0: 0.0,\n",
       " 253.0: 0.0,\n",
       " 254.0: 0.0,\n",
       " 255.0: 0.0,\n",
       " 256.0: 0.0,\n",
       " 257.0: 0.0,\n",
       " 258.0: 0.0,\n",
       " 259.0: 0.0,\n",
       " 260.0: 0.0,\n",
       " 261.0: 0.0,\n",
       " 262.0: 0.0,\n",
       " 263.0: 0.0,\n",
       " 264.0: 0.0,\n",
       " 265.0: 0.0,\n",
       " 266.0: 0.0,\n",
       " 267.0: 0.0,\n",
       " 268.0: 0.0,\n",
       " 269.0: 0.0,\n",
       " 270.0: 0.0,\n",
       " 271.0: 0.0,\n",
       " 272.0: 0.0,\n",
       " 273.0: 0.0,\n",
       " 274.0: 0.0,\n",
       " 276.0: 0.0,\n",
       " 277.0: 0.0,\n",
       " 278.0: 0.0,\n",
       " 279.0: 0.0,\n",
       " 280.0: 0.0,\n",
       " 281.0: 0.0,\n",
       " 282.0: 0.0,\n",
       " 283.0: 0.0,\n",
       " 284.0: 0.0,\n",
       " 285.0: 0.0,\n",
       " 286.0: 0.0,\n",
       " 287.0: 0.0,\n",
       " 290.0: 0.0,\n",
       " 291.0: 0.0,\n",
       " 292.0: 0.0,\n",
       " 293.0: 0.0,\n",
       " 294.0: 0.0,\n",
       " 297.0: 0.0,\n",
       " 298.0: 0.0,\n",
       " 299.0: 0.0,\n",
       " 300.0: 0.0,\n",
       " 301.0: 0.0,\n",
       " 302.0: 0.0,\n",
       " 303.0: 0.0,\n",
       " 304.0: 0.0,\n",
       " 305.0: 0.0,\n",
       " 307.0: 0.0,\n",
       " 309.0: 0.0,\n",
       " 312.0: 0.0,\n",
       " 313.0: 0.0,\n",
       " 316.0: 0.0,\n",
       " 317.0: 0.0,\n",
       " 318.0: 0.0,\n",
       " 319.0: 0.0,\n",
       " 320.0: 0.0,\n",
       " 321.0: 0.0,\n",
       " 322.0: 0.0,\n",
       " 323.0: 0.0,\n",
       " 326.0: 0.0,\n",
       " 327.0: 0.0,\n",
       " 328.0: 0.0,\n",
       " 329.0: 0.0,\n",
       " 1001.0: 0.0,\n",
       " 1002.0: 0.0,\n",
       " 1003.0: 0.0,\n",
       " 1004.0: 0.0,\n",
       " 1005.0: 0.0,\n",
       " 1006.0: 0.0,\n",
       " 1007.0: 1.0,\n",
       " 1008.0: 0.991869918699187,\n",
       " 1009.0: 0.0,\n",
       " 1010.0: 0.0,\n",
       " 1011.0: 0.0,\n",
       " 1012.0: 0.0,\n",
       " 1013.0: 0.011111111111111112,\n",
       " 1014.0: 0.0,\n",
       " 1015.0: 1.0,\n",
       " 1016.0: 1.0,\n",
       " 1017.0: 1.0,\n",
       " 1018.0: 0.0,\n",
       " 1019.0: 1.0,\n",
       " 1020.0: 0.0,\n",
       " 1021.0: 0.0,\n",
       " 1022.0: 0.9919354838709677,\n",
       " 1023.0: 0.0,\n",
       " 1024.0: 0.0,\n",
       " 1025.0: 0.008064516129032258,\n",
       " 1026.0: 0.0,\n",
       " 1027.0: 0.0,\n",
       " 1028.0: 0.0,\n",
       " 1029.0: 0.008771929824561403,\n",
       " 1030.0: 0.011494252873563218,\n",
       " 1031.0: 0.0,\n",
       " 1032.0: 0.0,\n",
       " 1033.0: 0.0,\n",
       " 1034.0: 1.0,\n",
       " 1035.0: 1.0,\n",
       " 1036.0: 0.012195121951219513,\n",
       " 1037.0: 0.020202020202020204,\n",
       " 1038.0: 0.010526315789473684,\n",
       " 1039.0: 1.0,\n",
       " 1040.0: 0.011627906976744186,\n",
       " 1041.0: 0.0,\n",
       " 1042.0: 0.0,\n",
       " 1043.0: 0.0,\n",
       " 1044.0: 0.010309278350515464,\n",
       " 1045.0: 0.0,\n",
       " 1046.0: 1.0,\n",
       " 1047.0: 0.008547008547008548,\n",
       " 1048.0: 0.0,\n",
       " 1049.0: 1.0,\n",
       " 1050.0: 0.0,\n",
       " 1051.0: 0.0,\n",
       " 1052.0: 1.0,\n",
       " 1053.0: 1.0,\n",
       " 1054.0: 0.9798657718120806,\n",
       " 1055.0: 0.010526315789473684,\n",
       " 1056.0: 0.0,\n",
       " 1057.0: 0.0,\n",
       " 1058.0: 0.0,\n",
       " 1059.0: 0.022727272727272728,\n",
       " 1076.0: 0.0,\n",
       " 1081.0: 0.0,\n",
       " 1082.0: 0.0,\n",
       " 1083.0: 0.023529411764705882,\n",
       " 1084.0: 0.0,\n",
       " 1085.0: 0.0,\n",
       " 1086.0: 0.0,\n",
       " 1087.0: 0.0,\n",
       " 1088.0: 0.0,\n",
       " 1089.0: 0.0,\n",
       " 1090.0: 0.0,\n",
       " 1091.0: 0.0,\n",
       " 1092.0: 0.0,\n",
       " 1093.0: 0.021739130434782608,\n",
       " 1094.0: 0.0,\n",
       " 1095.0: 0.0,\n",
       " 1096.0: 0.0,\n",
       " 1097.0: 0.0,\n",
       " 1098.0: 0.0,\n",
       " 1099.0: 0.0,\n",
       " 1100.0: 0.006535947712418301,\n",
       " 1101.0: 0.0,\n",
       " 1102.0: 0.0,\n",
       " 1103.0: 0.0,\n",
       " 1104.0: 0.0,\n",
       " 1105.0: 0.02631578947368421,\n",
       " 1106.0: 0.0,\n",
       " 1107.0: 0.0,\n",
       " 1108.0: 0.0,\n",
       " 1109.0: 0.0,\n",
       " 1110.0: 0.0,\n",
       " 1111.0: 0.01,\n",
       " 1112.0: 0.0,\n",
       " 1113.0: 0.0,\n",
       " 1157.0: 1.0,\n",
       " 1161.0: 0.0,\n",
       " 1164.0: 1.0,\n",
       " 1166.0: 1.0,\n",
       " 1168.0: 1.0,\n",
       " 1169.0: 1.0,\n",
       " 1170.0: 1.0,\n",
       " 1171.0: 0.0,\n",
       " 1172.0: 0.0,\n",
       " 1173.0: 1.0,\n",
       " 1174.0: 1.0,\n",
       " 1175.0: 1.0,\n",
       " 1176.0: 0.0,\n",
       " 1177.0: 0.0,\n",
       " 1179.0: 0.0,\n",
       " 1180.0: 1.0,\n",
       " 1181.0: 0.0,\n",
       " 1182.0: 0.0,\n",
       " 1183.0: 1.0,\n",
       " 1184.0: 1.0,\n",
       " 1185.0: 1.0,\n",
       " 1186.0: 1.0,\n",
       " 1187.0: 1.0,\n",
       " 1188.0: 1.0,\n",
       " 1189.0: 1.0,\n",
       " 1190.0: 0.0,\n",
       " 1191.0: 0.0,\n",
       " 1192.0: 0.0,\n",
       " 1193.0: 0.0,\n",
       " 1194.0: 0.0,\n",
       " 1195.0: 1.0,\n",
       " 1196.0: 1.0,\n",
       " 1197.0: 1.0,\n",
       " 1198.0: 1.0,\n",
       " 1199.0: 1.0,\n",
       " 1200.0: 1.0,\n",
       " 1201.0: 1.0,\n",
       " 1202.0: 0.0,\n",
       " 1203.0: 1.0,\n",
       " 1204.0: 1.0,\n",
       " 1205.0: 1.0,\n",
       " 1206.0: 0.0,\n",
       " 1207.0: 1.0,\n",
       " 1208.0: 1.0,\n",
       " 1209.0: 1.0,\n",
       " 1210.0: 0.0,\n",
       " 1211.0: 0.0,\n",
       " 1212.0: 0.0,\n",
       " 1213.0: 1.0,\n",
       " 1214.0: 0.0,\n",
       " 1215.0: 1.0,\n",
       " 1216.0: 0.0,\n",
       " 1217.0: 0.0,\n",
       " 1218.0: 1.0,\n",
       " 1219.0: 1.0,\n",
       " 1220.0: 1.0,\n",
       " 1221.0: 1.0,\n",
       " 1226.0: 0.0,\n",
       " 1227.0: 0.0,\n",
       " 1228.0: 0.0,\n",
       " 1229.0: 0.0,\n",
       " 1230.0: 0.0,\n",
       " 1232.0: 0.0,\n",
       " 1234.0: 0.0,\n",
       " 1235.0: 0.0,\n",
       " 1236.0: 0.0,\n",
       " 1237.0: 0.0,\n",
       " 1238.0: 0.0,\n",
       " 1239.0: 0.0,\n",
       " 1240.0: 0.0,\n",
       " 1241.0: 0.0,\n",
       " 1242.0: 0.0,\n",
       " 1243.0: 0.0,\n",
       " 1244.0: 0.0,\n",
       " 1245.0: 0.0,\n",
       " 1246.0: 0.0,\n",
       " 1247.0: 0.0,\n",
       " 1248.0: 0.0,\n",
       " 1249.0: 0.0,\n",
       " 1250.0: 0.0,\n",
       " 1251.0: 0.0,\n",
       " 1252.0: 0.0,\n",
       " 1253.0: 0.0,\n",
       " 1258.0: 0.0,\n",
       " 1259.0: 0.0,\n",
       " 1260.0: 0.0,\n",
       " 1263.0: 0.0,\n",
       " 1264.0: 0.0,\n",
       " 1265.0: 0.0,\n",
       " 1266.0: 0.0,\n",
       " 1267.0: 0.0,\n",
       " 1268.0: 0.0,\n",
       " 1269.0: 0.0,\n",
       " 1270.0: 0.0,\n",
       " 1271.0: 0.0,\n",
       " 1272.0: 0.0,\n",
       " 1273.0: 0.0,\n",
       " 1274.0: 0.0,\n",
       " 1275.0: 0.0,\n",
       " 1276.0: 0.0,\n",
       " 1277.0: 0.0,\n",
       " 1278.0: 0.0,\n",
       " 1279.0: 0.0,\n",
       " 1281.0: 0.0,\n",
       " 1284.0: 0.0,\n",
       " 1286.0: 0.0,\n",
       " 1288.0: 0.0,\n",
       " 1290.0: 0.0,\n",
       " 1291.0: 0.0}"
      ]
     },
     "execution_count": 208,
     "metadata": {},
     "output_type": "execute_result"
    }
   ],
   "source": [
    "dict_"
   ]
  },
  {
   "cell_type": "code",
   "execution_count": 211,
   "metadata": {},
   "outputs": [],
   "source": [
    "oj_data_temp['PR']=oj_data_temp.apply(func=cal_pr_for_oj_data_temp, axis=1)"
   ]
  },
  {
   "cell_type": "code",
   "execution_count": 220,
   "metadata": {},
   "outputs": [
    {
     "data": {
      "text/plain": [
       "sid                    0\n",
       "sim_id                 0\n",
       "uid                    0\n",
       "sim_uid                0\n",
       "similarity             0\n",
       "similarityThreshold    0\n",
       "CPMS                   0\n",
       "CPMSPC                 0\n",
       "CPTC                   0\n",
       "ASSR                   0\n",
       "DL                     0\n",
       "PR                     0\n",
       "PCR                    0\n",
       "RRB                    0\n",
       "LABEL                  0\n",
       "dtype: int64"
      ]
     },
     "execution_count": 220,
     "metadata": {},
     "output_type": "execute_result"
    }
   ],
   "source": [
    "oj_data_temp.shape[0] - oj_data_temp.count()  # 每列缺失值的个数"
   ]
  },
  {
   "cell_type": "code",
   "execution_count": 223,
   "metadata": {},
   "outputs": [
    {
     "data": {
      "text/html": [
       "<div>\n",
       "<style scoped>\n",
       "    .dataframe tbody tr th:only-of-type {\n",
       "        vertical-align: middle;\n",
       "    }\n",
       "\n",
       "    .dataframe tbody tr th {\n",
       "        vertical-align: top;\n",
       "    }\n",
       "\n",
       "    .dataframe thead th {\n",
       "        text-align: right;\n",
       "    }\n",
       "</style>\n",
       "<table border=\"1\" class=\"dataframe\">\n",
       "  <thead>\n",
       "    <tr style=\"text-align: right;\">\n",
       "      <th></th>\n",
       "      <th>sid</th>\n",
       "      <th>sim_id</th>\n",
       "      <th>uid</th>\n",
       "      <th>sim_uid</th>\n",
       "      <th>similarity</th>\n",
       "      <th>similarityThreshold</th>\n",
       "      <th>CPMS</th>\n",
       "      <th>CPMSPC</th>\n",
       "      <th>CPTC</th>\n",
       "      <th>ASSR</th>\n",
       "      <th>DL</th>\n",
       "      <th>PR</th>\n",
       "      <th>PCR</th>\n",
       "      <th>RRB</th>\n",
       "      <th>LABEL</th>\n",
       "    </tr>\n",
       "  </thead>\n",
       "  <tbody>\n",
       "    <tr>\n",
       "      <th>0</th>\n",
       "      <td>5409</td>\n",
       "      <td>7322</td>\n",
       "      <td>43</td>\n",
       "      <td>190</td>\n",
       "      <td>0.640000</td>\n",
       "      <td>0.95</td>\n",
       "      <td>0</td>\n",
       "      <td>2</td>\n",
       "      <td>1</td>\n",
       "      <td>0.882609</td>\n",
       "      <td>1</td>\n",
       "      <td>1.0</td>\n",
       "      <td>0.631714</td>\n",
       "      <td>163</td>\n",
       "      <td>1</td>\n",
       "    </tr>\n",
       "    <tr>\n",
       "      <th>1</th>\n",
       "      <td>5549</td>\n",
       "      <td>5534</td>\n",
       "      <td>43</td>\n",
       "      <td>71</td>\n",
       "      <td>0.511628</td>\n",
       "      <td>0.85</td>\n",
       "      <td>0</td>\n",
       "      <td>2</td>\n",
       "      <td>1</td>\n",
       "      <td>0.627778</td>\n",
       "      <td>1</td>\n",
       "      <td>1.0</td>\n",
       "      <td>0.631714</td>\n",
       "      <td>163</td>\n",
       "      <td>1</td>\n",
       "    </tr>\n",
       "    <tr>\n",
       "      <th>2</th>\n",
       "      <td>6134</td>\n",
       "      <td>4991</td>\n",
       "      <td>29</td>\n",
       "      <td>20</td>\n",
       "      <td>0.828571</td>\n",
       "      <td>0.90</td>\n",
       "      <td>0</td>\n",
       "      <td>4</td>\n",
       "      <td>1</td>\n",
       "      <td>0.775883</td>\n",
       "      <td>1</td>\n",
       "      <td>0.0</td>\n",
       "      <td>0.813397</td>\n",
       "      <td>188</td>\n",
       "      <td>0</td>\n",
       "    </tr>\n",
       "    <tr>\n",
       "      <th>3</th>\n",
       "      <td>6638</td>\n",
       "      <td>5825</td>\n",
       "      <td>50</td>\n",
       "      <td>72</td>\n",
       "      <td>0.752941</td>\n",
       "      <td>0.92</td>\n",
       "      <td>0</td>\n",
       "      <td>3</td>\n",
       "      <td>1</td>\n",
       "      <td>0.932974</td>\n",
       "      <td>1</td>\n",
       "      <td>1.0</td>\n",
       "      <td>0.703248</td>\n",
       "      <td>169</td>\n",
       "      <td>1</td>\n",
       "    </tr>\n",
       "    <tr>\n",
       "      <th>4</th>\n",
       "      <td>6915</td>\n",
       "      <td>6597</td>\n",
       "      <td>28</td>\n",
       "      <td>24</td>\n",
       "      <td>0.784314</td>\n",
       "      <td>0.92</td>\n",
       "      <td>0</td>\n",
       "      <td>3</td>\n",
       "      <td>1</td>\n",
       "      <td>0.888374</td>\n",
       "      <td>1</td>\n",
       "      <td>1.0</td>\n",
       "      <td>0.586463</td>\n",
       "      <td>128</td>\n",
       "      <td>1</td>\n",
       "    </tr>\n",
       "  </tbody>\n",
       "</table>\n",
       "</div>"
      ],
      "text/plain": [
       "    sid  sim_id  uid  sim_uid  similarity  similarityThreshold  CPMS  CPMSPC  \\\n",
       "0  5409    7322   43      190    0.640000                 0.95     0       2   \n",
       "1  5549    5534   43       71    0.511628                 0.85     0       2   \n",
       "2  6134    4991   29       20    0.828571                 0.90     0       4   \n",
       "3  6638    5825   50       72    0.752941                 0.92     0       3   \n",
       "4  6915    6597   28       24    0.784314                 0.92     0       3   \n",
       "\n",
       "   CPTC      ASSR  DL   PR       PCR  RRB  LABEL  \n",
       "0     1  0.882609   1  1.0  0.631714  163      1  \n",
       "1     1  0.627778   1  1.0  0.631714  163      1  \n",
       "2     1  0.775883   1  0.0  0.813397  188      0  \n",
       "3     1  0.932974   1  1.0  0.703248  169      1  \n",
       "4     1  0.888374   1  1.0  0.586463  128      1  "
      ]
     },
     "execution_count": 223,
     "metadata": {},
     "output_type": "execute_result"
    }
   ],
   "source": [
    "oj_data_temp.head()"
   ]
  },
  {
   "cell_type": "code",
   "execution_count": 225,
   "metadata": {},
   "outputs": [
    {
     "data": {
      "text/plain": [
       "(22842, 15)"
      ]
     },
     "execution_count": 225,
     "metadata": {},
     "output_type": "execute_result"
    }
   ],
   "source": [
    "oj_data_temp.shape"
   ]
  },
  {
   "cell_type": "code",
   "execution_count": 226,
   "metadata": {},
   "outputs": [],
   "source": [
    "oj_data_temp.to_csv('D:/fgz/专利/OJFeatures.csv', index=False)"
   ]
  }
 ],
 "metadata": {
  "kernelspec": {
   "display_name": "Python 3",
   "language": "python",
   "name": "python3"
  },
  "language_info": {
   "codemirror_mode": {
    "name": "ipython",
    "version": 3
   },
   "file_extension": ".py",
   "mimetype": "text/x-python",
   "name": "python",
   "nbconvert_exporter": "python",
   "pygments_lexer": "ipython3",
   "version": "3.6.5"
  }
 },
 "nbformat": 4,
 "nbformat_minor": 2
}
