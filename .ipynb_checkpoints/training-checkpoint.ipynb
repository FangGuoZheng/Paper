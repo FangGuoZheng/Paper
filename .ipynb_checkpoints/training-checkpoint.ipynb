{
 "cells": [
  {
   "cell_type": "code",
   "execution_count": 1,
   "metadata": {},
   "outputs": [],
   "source": [
    "import numpy as np\n",
    "import pandas as pd"
   ]
  },
  {
   "cell_type": "code",
   "execution_count": 3,
   "metadata": {},
   "outputs": [
    {
     "name": "stdout",
     "output_type": "stream",
     "text": [
      "(22842, 14)\n"
     ]
    },
    {
     "data": {
      "text/html": [
       "<div>\n",
       "<style scoped>\n",
       "    .dataframe tbody tr th:only-of-type {\n",
       "        vertical-align: middle;\n",
       "    }\n",
       "\n",
       "    .dataframe tbody tr th {\n",
       "        vertical-align: top;\n",
       "    }\n",
       "\n",
       "    .dataframe thead th {\n",
       "        text-align: right;\n",
       "    }\n",
       "</style>\n",
       "<table border=\"1\" class=\"dataframe\">\n",
       "  <thead>\n",
       "    <tr style=\"text-align: right;\">\n",
       "      <th></th>\n",
       "      <th>sid</th>\n",
       "      <th>sim_id</th>\n",
       "      <th>uid</th>\n",
       "      <th>sim_uid</th>\n",
       "      <th>similarity</th>\n",
       "      <th>similarityThreshold</th>\n",
       "      <th>CPMS</th>\n",
       "      <th>CPMSPC</th>\n",
       "      <th>CPTC</th>\n",
       "      <th>ASSR</th>\n",
       "      <th>DL</th>\n",
       "      <th>PR</th>\n",
       "      <th>PCR</th>\n",
       "      <th>RRB</th>\n",
       "    </tr>\n",
       "  </thead>\n",
       "  <tbody>\n",
       "    <tr>\n",
       "      <th>0</th>\n",
       "      <td>5409</td>\n",
       "      <td>7322</td>\n",
       "      <td>43</td>\n",
       "      <td>190</td>\n",
       "      <td>0.640000</td>\n",
       "      <td>0.95</td>\n",
       "      <td>0</td>\n",
       "      <td>2</td>\n",
       "      <td>1</td>\n",
       "      <td>0.882609</td>\n",
       "      <td>1</td>\n",
       "      <td>NaN</td>\n",
       "      <td>0.631714</td>\n",
       "      <td>163</td>\n",
       "    </tr>\n",
       "    <tr>\n",
       "      <th>1</th>\n",
       "      <td>5549</td>\n",
       "      <td>5534</td>\n",
       "      <td>43</td>\n",
       "      <td>71</td>\n",
       "      <td>0.511628</td>\n",
       "      <td>0.85</td>\n",
       "      <td>0</td>\n",
       "      <td>2</td>\n",
       "      <td>1</td>\n",
       "      <td>0.627778</td>\n",
       "      <td>1</td>\n",
       "      <td>NaN</td>\n",
       "      <td>0.631714</td>\n",
       "      <td>163</td>\n",
       "    </tr>\n",
       "    <tr>\n",
       "      <th>2</th>\n",
       "      <td>5605</td>\n",
       "      <td>5345</td>\n",
       "      <td>31</td>\n",
       "      <td>53</td>\n",
       "      <td>0.857143</td>\n",
       "      <td>0.95</td>\n",
       "      <td>0</td>\n",
       "      <td>4</td>\n",
       "      <td>1</td>\n",
       "      <td>0.967105</td>\n",
       "      <td>1</td>\n",
       "      <td>NaN</td>\n",
       "      <td>0.565435</td>\n",
       "      <td>145</td>\n",
       "    </tr>\n",
       "    <tr>\n",
       "      <th>3</th>\n",
       "      <td>6134</td>\n",
       "      <td>4991</td>\n",
       "      <td>29</td>\n",
       "      <td>20</td>\n",
       "      <td>0.828571</td>\n",
       "      <td>0.90</td>\n",
       "      <td>0</td>\n",
       "      <td>4</td>\n",
       "      <td>1</td>\n",
       "      <td>0.775883</td>\n",
       "      <td>1</td>\n",
       "      <td>NaN</td>\n",
       "      <td>0.813397</td>\n",
       "      <td>188</td>\n",
       "    </tr>\n",
       "    <tr>\n",
       "      <th>4</th>\n",
       "      <td>6638</td>\n",
       "      <td>5825</td>\n",
       "      <td>50</td>\n",
       "      <td>72</td>\n",
       "      <td>0.752941</td>\n",
       "      <td>0.92</td>\n",
       "      <td>0</td>\n",
       "      <td>3</td>\n",
       "      <td>1</td>\n",
       "      <td>0.932974</td>\n",
       "      <td>1</td>\n",
       "      <td>NaN</td>\n",
       "      <td>0.703248</td>\n",
       "      <td>169</td>\n",
       "    </tr>\n",
       "  </tbody>\n",
       "</table>\n",
       "</div>"
      ],
      "text/plain": [
       "    sid  sim_id  uid  sim_uid  similarity  similarityThreshold  CPMS  CPMSPC  \\\n",
       "0  5409    7322   43      190    0.640000                 0.95     0       2   \n",
       "1  5549    5534   43       71    0.511628                 0.85     0       2   \n",
       "2  5605    5345   31       53    0.857143                 0.95     0       4   \n",
       "3  6134    4991   29       20    0.828571                 0.90     0       4   \n",
       "4  6638    5825   50       72    0.752941                 0.92     0       3   \n",
       "\n",
       "   CPTC      ASSR  DL  PR       PCR  RRB  \n",
       "0     1  0.882609   1 NaN  0.631714  163  \n",
       "1     1  0.627778   1 NaN  0.631714  163  \n",
       "2     1  0.967105   1 NaN  0.565435  145  \n",
       "3     1  0.775883   1 NaN  0.813397  188  \n",
       "4     1  0.932974   1 NaN  0.703248  169  "
      ]
     },
     "execution_count": 3,
     "metadata": {},
     "output_type": "execute_result"
    }
   ],
   "source": [
    "# sid are unique\n",
    "oj_data = pd.read_csv(\"D:/fgz/论文/OJFeatures.csv\", sep=\",\", engine='python')\n",
    "print(oj_data.shape)\n",
    "oj_data.head()"
   ]
  },
  {
   "cell_type": "code",
   "execution_count": 5,
   "metadata": {},
   "outputs": [
    {
     "data": {
      "text/plain": [
       "sid                        0\n",
       "sim_id                     0\n",
       "uid                        0\n",
       "sim_uid                    0\n",
       "similarity                 0\n",
       "similarityThreshold        0\n",
       "CPMS                       0\n",
       "CPMSPC                     0\n",
       "CPTC                       0\n",
       "ASSR                       0\n",
       "DL                         0\n",
       "PR                     22842\n",
       "PCR                        0\n",
       "RRB                        0\n",
       "dtype: int64"
      ]
     },
     "execution_count": 5,
     "metadata": {},
     "output_type": "execute_result"
    }
   ],
   "source": [
    "oj_data.shape[0] - oj_data.count()"
   ]
  },
  {
   "cell_type": "code",
   "execution_count": null,
   "metadata": {},
   "outputs": [],
   "source": []
  },
  {
   "cell_type": "code",
   "execution_count": null,
   "metadata": {},
   "outputs": [],
   "source": []
  },
  {
   "cell_type": "code",
   "execution_count": null,
   "metadata": {},
   "outputs": [],
   "source": []
  },
  {
   "cell_type": "code",
   "execution_count": null,
   "metadata": {},
   "outputs": [],
   "source": []
  },
  {
   "cell_type": "code",
   "execution_count": null,
   "metadata": {},
   "outputs": [],
   "source": []
  },
  {
   "cell_type": "code",
   "execution_count": null,
   "metadata": {},
   "outputs": [],
   "source": []
  },
  {
   "cell_type": "code",
   "execution_count": null,
   "metadata": {},
   "outputs": [],
   "source": []
  },
  {
   "cell_type": "code",
   "execution_count": null,
   "metadata": {},
   "outputs": [],
   "source": []
  },
  {
   "cell_type": "code",
   "execution_count": null,
   "metadata": {},
   "outputs": [],
   "source": []
  },
  {
   "cell_type": "code",
   "execution_count": null,
   "metadata": {},
   "outputs": [],
   "source": []
  }
 ],
 "metadata": {
  "kernelspec": {
   "display_name": "Python 3",
   "language": "python",
   "name": "python3"
  },
  "language_info": {
   "codemirror_mode": {
    "name": "ipython",
    "version": 3
   },
   "file_extension": ".py",
   "mimetype": "text/x-python",
   "name": "python",
   "nbconvert_exporter": "python",
   "pygments_lexer": "ipython3",
   "version": "3.6.5"
  }
 },
 "nbformat": 4,
 "nbformat_minor": 2
}
