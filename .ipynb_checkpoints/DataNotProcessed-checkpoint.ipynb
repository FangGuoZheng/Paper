{
 "cells": [
  {
   "cell_type": "code",
   "execution_count": 4,
   "metadata": {},
   "outputs": [],
   "source": [
    "import pandas as pd\n",
    "import numpy as np"
   ]
  },
  {
   "cell_type": "code",
   "execution_count": 2,
   "metadata": {},
   "outputs": [],
   "source": [
    "oj_data = pd.read_csv(\"D:/fgz/专利/OJFeatures.csv\", engine=\"python\")"
   ]
  },
  {
   "cell_type": "code",
   "execution_count": 3,
   "metadata": {},
   "outputs": [
    {
     "data": {
      "text/html": [
       "<div>\n",
       "<style scoped>\n",
       "    .dataframe tbody tr th:only-of-type {\n",
       "        vertical-align: middle;\n",
       "    }\n",
       "\n",
       "    .dataframe tbody tr th {\n",
       "        vertical-align: top;\n",
       "    }\n",
       "\n",
       "    .dataframe thead th {\n",
       "        text-align: right;\n",
       "    }\n",
       "</style>\n",
       "<table border=\"1\" class=\"dataframe\">\n",
       "  <thead>\n",
       "    <tr style=\"text-align: right;\">\n",
       "      <th></th>\n",
       "      <th>sid</th>\n",
       "      <th>sim_id</th>\n",
       "      <th>uid</th>\n",
       "      <th>sim_uid</th>\n",
       "      <th>similarity</th>\n",
       "      <th>similarityThreshold</th>\n",
       "      <th>CPMS</th>\n",
       "      <th>CPMSPC</th>\n",
       "      <th>CPTC</th>\n",
       "      <th>ASSR</th>\n",
       "      <th>DL</th>\n",
       "      <th>PR</th>\n",
       "      <th>PCR</th>\n",
       "      <th>RRB</th>\n",
       "      <th>LABEL</th>\n",
       "    </tr>\n",
       "  </thead>\n",
       "  <tbody>\n",
       "    <tr>\n",
       "      <th>0</th>\n",
       "      <td>5409</td>\n",
       "      <td>7322</td>\n",
       "      <td>43</td>\n",
       "      <td>190</td>\n",
       "      <td>0.640000</td>\n",
       "      <td>0.95</td>\n",
       "      <td>0</td>\n",
       "      <td>2</td>\n",
       "      <td>1</td>\n",
       "      <td>0.882609</td>\n",
       "      <td>1</td>\n",
       "      <td>1.0</td>\n",
       "      <td>0.631714</td>\n",
       "      <td>163</td>\n",
       "      <td>1</td>\n",
       "    </tr>\n",
       "    <tr>\n",
       "      <th>1</th>\n",
       "      <td>5549</td>\n",
       "      <td>5534</td>\n",
       "      <td>43</td>\n",
       "      <td>71</td>\n",
       "      <td>0.511628</td>\n",
       "      <td>0.85</td>\n",
       "      <td>0</td>\n",
       "      <td>2</td>\n",
       "      <td>1</td>\n",
       "      <td>0.627778</td>\n",
       "      <td>1</td>\n",
       "      <td>1.0</td>\n",
       "      <td>0.631714</td>\n",
       "      <td>163</td>\n",
       "      <td>1</td>\n",
       "    </tr>\n",
       "    <tr>\n",
       "      <th>2</th>\n",
       "      <td>6134</td>\n",
       "      <td>4991</td>\n",
       "      <td>29</td>\n",
       "      <td>20</td>\n",
       "      <td>0.828571</td>\n",
       "      <td>0.90</td>\n",
       "      <td>0</td>\n",
       "      <td>4</td>\n",
       "      <td>1</td>\n",
       "      <td>0.775883</td>\n",
       "      <td>1</td>\n",
       "      <td>0.0</td>\n",
       "      <td>0.813397</td>\n",
       "      <td>188</td>\n",
       "      <td>0</td>\n",
       "    </tr>\n",
       "    <tr>\n",
       "      <th>3</th>\n",
       "      <td>6638</td>\n",
       "      <td>5825</td>\n",
       "      <td>50</td>\n",
       "      <td>72</td>\n",
       "      <td>0.752941</td>\n",
       "      <td>0.92</td>\n",
       "      <td>0</td>\n",
       "      <td>3</td>\n",
       "      <td>1</td>\n",
       "      <td>0.932974</td>\n",
       "      <td>1</td>\n",
       "      <td>1.0</td>\n",
       "      <td>0.703248</td>\n",
       "      <td>169</td>\n",
       "      <td>1</td>\n",
       "    </tr>\n",
       "    <tr>\n",
       "      <th>4</th>\n",
       "      <td>6915</td>\n",
       "      <td>6597</td>\n",
       "      <td>28</td>\n",
       "      <td>24</td>\n",
       "      <td>0.784314</td>\n",
       "      <td>0.92</td>\n",
       "      <td>0</td>\n",
       "      <td>3</td>\n",
       "      <td>1</td>\n",
       "      <td>0.888374</td>\n",
       "      <td>1</td>\n",
       "      <td>1.0</td>\n",
       "      <td>0.586463</td>\n",
       "      <td>128</td>\n",
       "      <td>1</td>\n",
       "    </tr>\n",
       "  </tbody>\n",
       "</table>\n",
       "</div>"
      ],
      "text/plain": [
       "    sid  sim_id  uid  sim_uid  similarity  similarityThreshold  CPMS  CPMSPC  \\\n",
       "0  5409    7322   43      190    0.640000                 0.95     0       2   \n",
       "1  5549    5534   43       71    0.511628                 0.85     0       2   \n",
       "2  6134    4991   29       20    0.828571                 0.90     0       4   \n",
       "3  6638    5825   50       72    0.752941                 0.92     0       3   \n",
       "4  6915    6597   28       24    0.784314                 0.92     0       3   \n",
       "\n",
       "   CPTC      ASSR  DL   PR       PCR  RRB  LABEL  \n",
       "0     1  0.882609   1  1.0  0.631714  163      1  \n",
       "1     1  0.627778   1  1.0  0.631714  163      1  \n",
       "2     1  0.775883   1  0.0  0.813397  188      0  \n",
       "3     1  0.932974   1  1.0  0.703248  169      1  \n",
       "4     1  0.888374   1  1.0  0.586463  128      1  "
      ]
     },
     "execution_count": 3,
     "metadata": {},
     "output_type": "execute_result"
    }
   ],
   "source": [
    "oj_data.head()"
   ]
  },
  {
   "cell_type": "code",
   "execution_count": 4,
   "metadata": {},
   "outputs": [],
   "source": [
    "import MySQLdb\n",
    "\n",
    "db=MySQLdb.connect(host='47.95.22.126',port=3306,user='root',passwd='dhuoj@124',db='gdoj',charset='utf8')\n",
    "c=db.cursor()"
   ]
  },
  {
   "cell_type": "code",
   "execution_count": 5,
   "metadata": {},
   "outputs": [],
   "source": [
    "# 构造一个专门从数据库当中查询数据的函数\n",
    "def get_data(sql):\n",
    "    c.execute(sql)\n",
    "    rows_list = []\n",
    "    for row in c.fetchall():\n",
    "        rows_list.append(row)\n",
    "    data = pd.DataFrame(data=rows_list)\n",
    "    return data;"
   ]
  },
  {
   "cell_type": "code",
   "execution_count": 6,
   "metadata": {},
   "outputs": [],
   "source": [
    "# 在上面的基础上，筛选出具有标签值的记录\n",
    "data_label = get_data(\"\"\"select s.id, sw.submited from solution s INNER JOIN \n",
    "similaritywarning sw on sw.submited>=0 and s.similarity>0 and s.id=sw.solutionId\"\"\")\n",
    "\n",
    "data_label.columns=['sid', 'LABEL']"
   ]
  },
  {
   "cell_type": "code",
   "execution_count": 7,
   "metadata": {},
   "outputs": [
    {
     "name": "stdout",
     "output_type": "stream",
     "text": [
      "(3953, 2)\n",
      "1438\n",
      "2515\n"
     ]
    },
    {
     "data": {
      "text/html": [
       "<div>\n",
       "<style scoped>\n",
       "    .dataframe tbody tr th:only-of-type {\n",
       "        vertical-align: middle;\n",
       "    }\n",
       "\n",
       "    .dataframe tbody tr th {\n",
       "        vertical-align: top;\n",
       "    }\n",
       "\n",
       "    .dataframe thead th {\n",
       "        text-align: right;\n",
       "    }\n",
       "</style>\n",
       "<table border=\"1\" class=\"dataframe\">\n",
       "  <thead>\n",
       "    <tr style=\"text-align: right;\">\n",
       "      <th></th>\n",
       "      <th>sid</th>\n",
       "      <th>LABEL</th>\n",
       "    </tr>\n",
       "  </thead>\n",
       "  <tbody>\n",
       "    <tr>\n",
       "      <th>0</th>\n",
       "      <td>9065</td>\n",
       "      <td>0</td>\n",
       "    </tr>\n",
       "    <tr>\n",
       "      <th>1</th>\n",
       "      <td>9073</td>\n",
       "      <td>0</td>\n",
       "    </tr>\n",
       "    <tr>\n",
       "      <th>2</th>\n",
       "      <td>9135</td>\n",
       "      <td>0</td>\n",
       "    </tr>\n",
       "    <tr>\n",
       "      <th>3</th>\n",
       "      <td>9138</td>\n",
       "      <td>0</td>\n",
       "    </tr>\n",
       "    <tr>\n",
       "      <th>4</th>\n",
       "      <td>9138</td>\n",
       "      <td>0</td>\n",
       "    </tr>\n",
       "  </tbody>\n",
       "</table>\n",
       "</div>"
      ],
      "text/plain": [
       "    sid  LABEL\n",
       "0  9065      0\n",
       "1  9073      0\n",
       "2  9135      0\n",
       "3  9138      0\n",
       "4  9138      0"
      ]
     },
     "execution_count": 7,
     "metadata": {},
     "output_type": "execute_result"
    }
   ],
   "source": [
    "# 不抄袭的肯定比抄袭的要多很多，总记录数为3953条\n",
    "print(data_label.shape)\n",
    "print(len(data_label[data_label['LABEL']==1]))  # label=1代表抄袭\n",
    "print(len(data_label[data_label['LABEL']==0]))  # label=0代表不抄袭\n",
    "data_label.head()"
   ]
  },
  {
   "cell_type": "code",
   "execution_count": 8,
   "metadata": {},
   "outputs": [],
   "source": [
    "def convert_df_to_dict(df):\n",
    "    dict_temp={}\n",
    "    for index, row in df.iterrows():\n",
    "        dict_temp[row['sid']]=1\n",
    "    return dict_temp\n",
    "\n",
    "data_label_dict=convert_df_to_dict(data_label)"
   ]
  },
  {
   "cell_type": "code",
   "execution_count": 9,
   "metadata": {},
   "outputs": [
    {
     "data": {
      "text/html": [
       "<div>\n",
       "<style scoped>\n",
       "    .dataframe tbody tr th:only-of-type {\n",
       "        vertical-align: middle;\n",
       "    }\n",
       "\n",
       "    .dataframe tbody tr th {\n",
       "        vertical-align: top;\n",
       "    }\n",
       "\n",
       "    .dataframe thead th {\n",
       "        text-align: right;\n",
       "    }\n",
       "</style>\n",
       "<table border=\"1\" class=\"dataframe\">\n",
       "  <thead>\n",
       "    <tr style=\"text-align: right;\">\n",
       "      <th></th>\n",
       "      <th>sid</th>\n",
       "      <th>sim_id</th>\n",
       "      <th>uid</th>\n",
       "      <th>sim_uid</th>\n",
       "      <th>similarity</th>\n",
       "      <th>similarityThreshold</th>\n",
       "      <th>CPMS</th>\n",
       "      <th>CPMSPC</th>\n",
       "      <th>CPTC</th>\n",
       "      <th>ASSR</th>\n",
       "      <th>DL</th>\n",
       "      <th>PR</th>\n",
       "      <th>PCR</th>\n",
       "      <th>RRB</th>\n",
       "      <th>LABEL</th>\n",
       "    </tr>\n",
       "  </thead>\n",
       "  <tbody>\n",
       "    <tr>\n",
       "      <th>0</th>\n",
       "      <td>5409</td>\n",
       "      <td>7322</td>\n",
       "      <td>43</td>\n",
       "      <td>190</td>\n",
       "      <td>0.640000</td>\n",
       "      <td>0.95</td>\n",
       "      <td>0</td>\n",
       "      <td>2</td>\n",
       "      <td>1</td>\n",
       "      <td>0.882609</td>\n",
       "      <td>1</td>\n",
       "      <td>1.0</td>\n",
       "      <td>0.631714</td>\n",
       "      <td>163</td>\n",
       "      <td>0</td>\n",
       "    </tr>\n",
       "    <tr>\n",
       "      <th>1</th>\n",
       "      <td>5549</td>\n",
       "      <td>5534</td>\n",
       "      <td>43</td>\n",
       "      <td>71</td>\n",
       "      <td>0.511628</td>\n",
       "      <td>0.85</td>\n",
       "      <td>0</td>\n",
       "      <td>2</td>\n",
       "      <td>1</td>\n",
       "      <td>0.627778</td>\n",
       "      <td>1</td>\n",
       "      <td>1.0</td>\n",
       "      <td>0.631714</td>\n",
       "      <td>163</td>\n",
       "      <td>0</td>\n",
       "    </tr>\n",
       "    <tr>\n",
       "      <th>2</th>\n",
       "      <td>6134</td>\n",
       "      <td>4991</td>\n",
       "      <td>29</td>\n",
       "      <td>20</td>\n",
       "      <td>0.828571</td>\n",
       "      <td>0.90</td>\n",
       "      <td>0</td>\n",
       "      <td>4</td>\n",
       "      <td>1</td>\n",
       "      <td>0.775883</td>\n",
       "      <td>1</td>\n",
       "      <td>0.0</td>\n",
       "      <td>0.813397</td>\n",
       "      <td>188</td>\n",
       "      <td>0</td>\n",
       "    </tr>\n",
       "    <tr>\n",
       "      <th>3</th>\n",
       "      <td>6638</td>\n",
       "      <td>5825</td>\n",
       "      <td>50</td>\n",
       "      <td>72</td>\n",
       "      <td>0.752941</td>\n",
       "      <td>0.92</td>\n",
       "      <td>0</td>\n",
       "      <td>3</td>\n",
       "      <td>1</td>\n",
       "      <td>0.932974</td>\n",
       "      <td>1</td>\n",
       "      <td>1.0</td>\n",
       "      <td>0.703248</td>\n",
       "      <td>169</td>\n",
       "      <td>0</td>\n",
       "    </tr>\n",
       "    <tr>\n",
       "      <th>4</th>\n",
       "      <td>6915</td>\n",
       "      <td>6597</td>\n",
       "      <td>28</td>\n",
       "      <td>24</td>\n",
       "      <td>0.784314</td>\n",
       "      <td>0.92</td>\n",
       "      <td>0</td>\n",
       "      <td>3</td>\n",
       "      <td>1</td>\n",
       "      <td>0.888374</td>\n",
       "      <td>1</td>\n",
       "      <td>1.0</td>\n",
       "      <td>0.586463</td>\n",
       "      <td>128</td>\n",
       "      <td>0</td>\n",
       "    </tr>\n",
       "  </tbody>\n",
       "</table>\n",
       "</div>"
      ],
      "text/plain": [
       "    sid  sim_id  uid  sim_uid  similarity  similarityThreshold  CPMS  CPMSPC  \\\n",
       "0  5409    7322   43      190    0.640000                 0.95     0       2   \n",
       "1  5549    5534   43       71    0.511628                 0.85     0       2   \n",
       "2  6134    4991   29       20    0.828571                 0.90     0       4   \n",
       "3  6638    5825   50       72    0.752941                 0.92     0       3   \n",
       "4  6915    6597   28       24    0.784314                 0.92     0       3   \n",
       "\n",
       "   CPTC      ASSR  DL   PR       PCR  RRB  LABEL  \n",
       "0     1  0.882609   1  1.0  0.631714  163      0  \n",
       "1     1  0.627778   1  1.0  0.631714  163      0  \n",
       "2     1  0.775883   1  0.0  0.813397  188      0  \n",
       "3     1  0.932974   1  1.0  0.703248  169      0  \n",
       "4     1  0.888374   1  1.0  0.586463  128      0  "
      ]
     },
     "execution_count": 9,
     "metadata": {},
     "output_type": "execute_result"
    }
   ],
   "source": [
    "oj_data['LABEL']=0\n",
    "oj_data.head()"
   ]
  },
  {
   "cell_type": "code",
   "execution_count": 10,
   "metadata": {},
   "outputs": [],
   "source": [
    "def change_label(row):\n",
    "    if row['sid'] in data_label_dict:\n",
    "        return data_label_dict[row['sid']]\n",
    "    else:\n",
    "        return 0\n",
    "    \n",
    "oj_data['LABEL']=oj_data.apply(func=change_label, axis=1)"
   ]
  },
  {
   "cell_type": "code",
   "execution_count": 11,
   "metadata": {},
   "outputs": [
    {
     "data": {
      "text/plain": [
       "0    22609\n",
       "1      233\n",
       "Name: LABEL, dtype: int64"
      ]
     },
     "execution_count": 11,
     "metadata": {},
     "output_type": "execute_result"
    }
   ],
   "source": [
    "oj_data['LABEL'].value_counts()"
   ]
  },
  {
   "cell_type": "code",
   "execution_count": 12,
   "metadata": {},
   "outputs": [],
   "source": [
    "oj_data_0=oj_data[oj_data['LABEL']==0]"
   ]
  },
  {
   "cell_type": "code",
   "execution_count": 13,
   "metadata": {},
   "outputs": [
    {
     "data": {
      "text/plain": [
       "(22609, 15)"
      ]
     },
     "execution_count": 13,
     "metadata": {},
     "output_type": "execute_result"
    }
   ],
   "source": [
    "oj_data_0.shape"
   ]
  },
  {
   "cell_type": "code",
   "execution_count": 14,
   "metadata": {},
   "outputs": [
    {
     "data": {
      "text/plain": [
       "(1000, 15)"
      ]
     },
     "execution_count": 14,
     "metadata": {},
     "output_type": "execute_result"
    }
   ],
   "source": [
    "data_true=oj_data_0.sample(n=1000,random_state=123)\n",
    "data_true.shape"
   ]
  },
  {
   "cell_type": "code",
   "execution_count": 15,
   "metadata": {},
   "outputs": [
    {
     "data": {
      "text/plain": [
       "(1233, 15)"
      ]
     },
     "execution_count": 15,
     "metadata": {},
     "output_type": "execute_result"
    }
   ],
   "source": [
    "data_true = pd.concat( [data_true, oj_data[oj_data['LABEL']==1]], axis=0 )\n",
    "data_true.shape"
   ]
  },
  {
   "cell_type": "code",
   "execution_count": 17,
   "metadata": {},
   "outputs": [],
   "source": [
    "# 查询用户排名数据\n",
    "data_user_rank = get_data(\"\"\"select userid, SUM(score) as allscore from solution where similarity>0 GROUP BY userid\"\"\")\n",
    "data_user_rank.columns = ['uid', 'total_score']"
   ]
  },
  {
   "cell_type": "code",
   "execution_count": 18,
   "metadata": {},
   "outputs": [],
   "source": [
    "data_user_rank.drop(['total_score'], axis=1, inplace=True)\n",
    "data_user_rank['PR']=-1"
   ]
  },
  {
   "cell_type": "code",
   "execution_count": 21,
   "metadata": {},
   "outputs": [],
   "source": [
    "def cal_pr_for_user(row):\n",
    "    temp=data_true[data_true['uid']==row['uid']]\n",
    "    total=len(temp)\n",
    "    count=len(temp[temp['LABEL']==1])\n",
    "    if total==0:\n",
    "        return -1\n",
    "    else:\n",
    "        return count/total\n",
    "\n",
    "def change_df_to_dict(df):\n",
    "    dict_={}\n",
    "    for index, row in df.iterrows():\n",
    "        dict_[row['uid']]=row['PR']\n",
    "    return dict_\n",
    "\n",
    "def cal_pr_for_oj_data_temp(row):\n",
    "    return dict_[row['uid']]"
   ]
  },
  {
   "cell_type": "code",
   "execution_count": 22,
   "metadata": {},
   "outputs": [],
   "source": [
    "data_user_rank['PR']=data_user_rank.apply(func=cal_pr_for_user, axis=1)"
   ]
  },
  {
   "cell_type": "code",
   "execution_count": 24,
   "metadata": {},
   "outputs": [
    {
     "data": {
      "text/html": [
       "<div>\n",
       "<style scoped>\n",
       "    .dataframe tbody tr th:only-of-type {\n",
       "        vertical-align: middle;\n",
       "    }\n",
       "\n",
       "    .dataframe tbody tr th {\n",
       "        vertical-align: top;\n",
       "    }\n",
       "\n",
       "    .dataframe thead th {\n",
       "        text-align: right;\n",
       "    }\n",
       "</style>\n",
       "<table border=\"1\" class=\"dataframe\">\n",
       "  <thead>\n",
       "    <tr style=\"text-align: right;\">\n",
       "      <th></th>\n",
       "      <th>uid</th>\n",
       "      <th>PR</th>\n",
       "    </tr>\n",
       "  </thead>\n",
       "  <tbody>\n",
       "    <tr>\n",
       "      <th>0</th>\n",
       "      <td>1</td>\n",
       "      <td>0.0</td>\n",
       "    </tr>\n",
       "    <tr>\n",
       "      <th>1</th>\n",
       "      <td>17</td>\n",
       "      <td>0.0</td>\n",
       "    </tr>\n",
       "    <tr>\n",
       "      <th>2</th>\n",
       "      <td>18</td>\n",
       "      <td>-1.0</td>\n",
       "    </tr>\n",
       "    <tr>\n",
       "      <th>3</th>\n",
       "      <td>19</td>\n",
       "      <td>-1.0</td>\n",
       "    </tr>\n",
       "    <tr>\n",
       "      <th>4</th>\n",
       "      <td>20</td>\n",
       "      <td>0.0</td>\n",
       "    </tr>\n",
       "  </tbody>\n",
       "</table>\n",
       "</div>"
      ],
      "text/plain": [
       "   uid   PR\n",
       "0    1  0.0\n",
       "1   17  0.0\n",
       "2   18 -1.0\n",
       "3   19 -1.0\n",
       "4   20  0.0"
      ]
     },
     "execution_count": 24,
     "metadata": {},
     "output_type": "execute_result"
    }
   ],
   "source": [
    "data_user_rank[]"
   ]
  },
  {
   "cell_type": "code",
   "execution_count": null,
   "metadata": {},
   "outputs": [],
   "source": [
    "data_true['PR']=data_true.apply(func=cal_pr_for_oj_data_temp, axis=1)"
   ]
  },
  {
   "cell_type": "code",
   "execution_count": null,
   "metadata": {},
   "outputs": [],
   "source": []
  },
  {
   "cell_type": "code",
   "execution_count": 26,
   "metadata": {},
   "outputs": [
    {
     "data": {
      "text/plain": [
       "(1233, 8)"
      ]
     },
     "execution_count": 26,
     "metadata": {},
     "output_type": "execute_result"
    }
   ],
   "source": [
    "columns = ['sid', 'sim_id', 'uid', 'sim_uid', 'similarity', 'similarityThreshold', 'CPMS']\n",
    "data_true.drop(columns=columns, inplace=True ,axis=1) # \"inplace=True\" indicate that delete columns in-place\n",
    "data_true.shape"
   ]
  },
  {
   "cell_type": "code",
   "execution_count": 27,
   "metadata": {
    "scrolled": true
   },
   "outputs": [
    {
     "data": {
      "text/html": [
       "<div>\n",
       "<style scoped>\n",
       "    .dataframe tbody tr th:only-of-type {\n",
       "        vertical-align: middle;\n",
       "    }\n",
       "\n",
       "    .dataframe tbody tr th {\n",
       "        vertical-align: top;\n",
       "    }\n",
       "\n",
       "    .dataframe thead th {\n",
       "        text-align: right;\n",
       "    }\n",
       "</style>\n",
       "<table border=\"1\" class=\"dataframe\">\n",
       "  <thead>\n",
       "    <tr style=\"text-align: right;\">\n",
       "      <th></th>\n",
       "      <th>CPMSPC</th>\n",
       "      <th>CPTC</th>\n",
       "      <th>ASSR</th>\n",
       "      <th>DL</th>\n",
       "      <th>PR</th>\n",
       "      <th>PCR</th>\n",
       "      <th>RRB</th>\n",
       "      <th>LABEL</th>\n",
       "    </tr>\n",
       "  </thead>\n",
       "  <tbody>\n",
       "    <tr>\n",
       "      <th>3984</th>\n",
       "      <td>1</td>\n",
       "      <td>1</td>\n",
       "      <td>0.668179</td>\n",
       "      <td>1</td>\n",
       "      <td>1.0</td>\n",
       "      <td>0.674339</td>\n",
       "      <td>5</td>\n",
       "      <td>0</td>\n",
       "    </tr>\n",
       "    <tr>\n",
       "      <th>14772</th>\n",
       "      <td>2</td>\n",
       "      <td>1</td>\n",
       "      <td>0.786976</td>\n",
       "      <td>1</td>\n",
       "      <td>0.0</td>\n",
       "      <td>0.518766</td>\n",
       "      <td>290</td>\n",
       "      <td>0</td>\n",
       "    </tr>\n",
       "    <tr>\n",
       "      <th>9764</th>\n",
       "      <td>4</td>\n",
       "      <td>1</td>\n",
       "      <td>0.956426</td>\n",
       "      <td>1</td>\n",
       "      <td>1.0</td>\n",
       "      <td>0.767138</td>\n",
       "      <td>114</td>\n",
       "      <td>0</td>\n",
       "    </tr>\n",
       "    <tr>\n",
       "      <th>4167</th>\n",
       "      <td>3</td>\n",
       "      <td>1</td>\n",
       "      <td>0.834602</td>\n",
       "      <td>1</td>\n",
       "      <td>1.0</td>\n",
       "      <td>0.550882</td>\n",
       "      <td>122</td>\n",
       "      <td>0</td>\n",
       "    </tr>\n",
       "    <tr>\n",
       "      <th>9894</th>\n",
       "      <td>3</td>\n",
       "      <td>1</td>\n",
       "      <td>0.837607</td>\n",
       "      <td>1</td>\n",
       "      <td>1.0</td>\n",
       "      <td>0.655249</td>\n",
       "      <td>57</td>\n",
       "      <td>0</td>\n",
       "    </tr>\n",
       "  </tbody>\n",
       "</table>\n",
       "</div>"
      ],
      "text/plain": [
       "       CPMSPC  CPTC      ASSR  DL   PR       PCR  RRB  LABEL\n",
       "3984        1     1  0.668179   1  1.0  0.674339    5      0\n",
       "14772       2     1  0.786976   1  0.0  0.518766  290      0\n",
       "9764        4     1  0.956426   1  1.0  0.767138  114      0\n",
       "4167        3     1  0.834602   1  1.0  0.550882  122      0\n",
       "9894        3     1  0.837607   1  1.0  0.655249   57      0"
      ]
     },
     "execution_count": 27,
     "metadata": {},
     "output_type": "execute_result"
    }
   ],
   "source": [
    "data_true.head()"
   ]
  },
  {
   "cell_type": "code",
   "execution_count": null,
   "metadata": {},
   "outputs": [],
   "source": []
  },
  {
   "cell_type": "code",
   "execution_count": null,
   "metadata": {},
   "outputs": [],
   "source": []
  },
  {
   "cell_type": "code",
   "execution_count": null,
   "metadata": {},
   "outputs": [],
   "source": []
  },
  {
   "cell_type": "code",
   "execution_count": null,
   "metadata": {},
   "outputs": [],
   "source": []
  },
  {
   "cell_type": "code",
   "execution_count": null,
   "metadata": {},
   "outputs": [],
   "source": []
  },
  {
   "cell_type": "code",
   "execution_count": null,
   "metadata": {},
   "outputs": [],
   "source": []
  },
  {
   "cell_type": "code",
   "execution_count": null,
   "metadata": {},
   "outputs": [],
   "source": []
  },
  {
   "cell_type": "code",
   "execution_count": null,
   "metadata": {},
   "outputs": [],
   "source": []
  },
  {
   "cell_type": "code",
   "execution_count": null,
   "metadata": {},
   "outputs": [],
   "source": []
  }
 ],
 "metadata": {
  "kernelspec": {
   "display_name": "Python 3",
   "language": "python",
   "name": "python3"
  }
 },
 "nbformat": 4,
 "nbformat_minor": 2
}
